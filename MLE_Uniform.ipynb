{
 "cells": [
  {
   "cell_type": "markdown",
   "metadata": {},
   "source": [
    "<p style=\"font-size:1.5em; font-style:bold\"> Uniform Distribution: MLE and Bootsrap Standard Deviation </p>\n",
    "\n",
    "\n",
    "In this file, we work on samples from a uniform distribution; that is, $X_1,X_2,\\cdots,X_n$~Uniform$(0,\\theta)$. It is easy to show that the MLE estimator would be\n",
    "$$\n",
    "\\hat{\\theta}_n = \\max_iX_i\n",
    "$$\n",
    "The distribution fo $\\hat\\theta_n$ is\n",
    "$$\n",
    "f_{\\hat\\theta_n}(t) = \\frac{n\\times t^{n-1}}{\\theta^n}\n",
    "$$\n",
    "for $t\\in[0,\\theta]$ and zero otherwise. It is easy to show that\n",
    "$$\n",
    "\\mathbb{E}_\\theta[\\hat\\theta_n] = \\frac{n}{n+1}\\theta  \\ \\ \\ \\text{and} \\ \\ \\ \\text{var}_\\theta(\\hat\\theta_n) = \\big(\\frac{n}{n+2} - (\\frac{n}{n+1})^2\\big)\\theta^2.\n",
    "$$\n",
    "Then the bias of this estimator will be\n",
    "$$\n",
    "\\text{bias}(\\hat\\theta_n) = \\frac{-\\theta}{n+1}\n",
    "$$\n",
    "which means the estimator is **biased**. For a fixed $n$, this implies, larger $\\theta$ casuese larger bias. In simple words if $\\theta$ is large a limited sample of size $n$ will have hard time to get close to this value. On the other hand for a fixed $\\theta$ as $n$ gets larger there are more chance of getting the largest smaple closer to $\\theta$ and hece the bias decreases.\n",
    "\n",
    "\n",
    "Finally the Mean Squared Error (MSE) will be\n",
    "\n",
    "\\begin{eqnarray}\n",
    "\\text{MSE}(\\hat\\theta_n) &=& \\text{bias}^2(\\hat\\theta_n) + \\text{var}_\\theta(\\hat\\theta_n)\\\\\n",
    "&=&\\frac{\\theta^2}{(n+1)^2} + \\big(\\frac{n}{n+2} - (\\frac{n}{n+1})^2\\big)\\theta^2 \\\\\n",
    "&=& \\big(\\frac{1-n^2}{(n+1)^2} + \\frac{n}{n+2}\\big)\\theta^2\n",
    "\\end{eqnarray}\n",
    "\n",
    "It is easy to show that MSE$(\\hat\\theta_n)\\to 0$ as $n$ grows to $\\infty$ and hence this estimator is **consistent**.\n",
    "\n",
    "\n",
    "<p style=\"font-size:1.2em; font-style:bold\"> Estimating the Variance and Confidence Interval</p>\n",
    "Once the parameter $\\hat\\theta_n$ is estimated, we want to form a 95-percentile confidence interval. It will essentially be\n",
    "\n",
    "$$\n",
    "(\\hat\\theta_n - 1.96\\times \\hat{se}\\ ,\\  \\hat\\theta_n + 1.96 \\times \\hat{se} ).\n",
    "$$\n",
    "The exact $\\hat{se}$ is the square root of the variance calculated above. Alternatively we can calculate it via bootstrap. Even for bootstrap we can take either a parametric or a non-parameteric approach. In this notebook we study both of the approaches.\n"
   ]
  },
  {
   "cell_type": "code",
   "execution_count": 1,
   "metadata": {},
   "outputs": [],
   "source": [
    "import numpy as np\n",
    "import pandas as pd\n",
    "import matplotlib.pyplot as plt\n",
    "%matplotlib inline"
   ]
  },
  {
   "cell_type": "code",
   "execution_count": 2,
   "metadata": {},
   "outputs": [],
   "source": [
    "# Set parameters\n",
    "theta = 1\n",
    "n = 50\n",
    "B = 1000 # Bootstrap"
   ]
  },
  {
   "cell_type": "code",
   "execution_count": 71,
   "metadata": {},
   "outputs": [],
   "source": [
    "# The actual distribution for theta_n\n",
    "t = np.linspace(0.8,theta,100)\n",
    "ActualPdf = n*(t**(n-1))/(theta**n)"
   ]
  },
  {
   "cell_type": "code",
   "execution_count": 72,
   "metadata": {},
   "outputs": [
    {
     "data": {
      "text/plain": [
       "[<matplotlib.lines.Line2D at 0x1dbd0cb6780>]"
      ]
     },
     "execution_count": 72,
     "metadata": {},
     "output_type": "execute_result"
    },
    {
     "data": {
      "image/png": "[encoded data removed]",
      "text/plain": [
       "<Figure size 360x360 with 1 Axes>"
      ]
     },
     "metadata": {
      "needs_background": "light"
     },
     "output_type": "display_data"
    }
   ],
   "source": [
    "plt.figure(figsize = (5,5))\n",
    "plt.xlabel('t')\n",
    "plt.title('Actual Pdf')\n",
    "plt.grid()\n",
    "plt.plot(t,ActualPdf)"
   ]
  },
  {
   "cell_type": "code",
   "execution_count": 18,
   "metadata": {},
   "outputs": [],
   "source": [
    "# Before comparing parameteric and non-parametric with the actual formulae, we need to generate the 50 samples\n",
    "np.random.seed(seed = 123)\n",
    "X = np.random.uniform(low = 0, high = theta, size = n)"
   ]
  },
  {
   "cell_type": "code",
   "execution_count": 19,
   "metadata": {},
   "outputs": [
    {
     "data": {
      "text/plain": [
       "0.05967789660956835"
      ]
     },
     "execution_count": 19,
     "metadata": {},
     "output_type": "execute_result"
    }
   ],
   "source": [
    "X.min()"
   ]
  },
  {
   "cell_type": "code",
   "execution_count": 20,
   "metadata": {},
   "outputs": [
    {
     "data": {
      "text/plain": [
       "0.985559785610705"
      ]
     },
     "execution_count": 20,
     "metadata": {},
     "output_type": "execute_result"
    }
   ],
   "source": [
    "X.max()"
   ]
  },
  {
   "cell_type": "code",
   "execution_count": 27,
   "metadata": {},
   "outputs": [
    {
     "name": "stdout",
     "output_type": "stream",
     "text": [
      "The MLE estimate for θ is 0.9856.\n"
     ]
    }
   ],
   "source": [
    "# Actual Estimate (MLE) is\n",
    "theta_n = X.max()\n",
    "print(\"The MLE estimate for \\u03B8 is {0:0.4f}.\".format(theta_n))"
   ]
  },
  {
   "cell_type": "code",
   "execution_count": 35,
   "metadata": {},
   "outputs": [
    {
     "name": "stdout",
     "output_type": "stream",
     "text": [
      "The actual se is 0.0191.\n",
      "The actual confidence interval is (0.966 , 1.005)\n"
     ]
    }
   ],
   "source": [
    "# Actual SE and confidence interval\n",
    "actual_se = np.sqrt((n/(n+2) - (n/(n+1))**2)*theta_n)\n",
    "actual_low = max(theta_n - actual_se,0)\n",
    "# note that we don't know the actual upper bound theta = 1\n",
    "actual_high = theta_n + actual_se\n",
    "print(\"The actual se is {0:0.4f}.\".format(actual_se))\n",
    "print(\"The actual confidence interval is ({0:0.3f} , {1:0.3f})\".format(actual_low,actual_high))\n"
   ]
  },
  {
   "cell_type": "code",
   "execution_count": 48,
   "metadata": {},
   "outputs": [],
   "source": [
    "# non-parametric bootstrap is to obtain samples from the existing B times with replacement\n",
    "Non_param = np.zeros(shape = B)\n",
    "for i in np.arange(B):\n",
    "    np.random.seed(seed = 123 + i)\n",
    "    sample = np.random.choice(X, size = n, replace = True)\n",
    "    Non_param[i] = max(sample)"
   ]
  },
  {
   "cell_type": "code",
   "execution_count": 51,
   "metadata": {},
   "outputs": [],
   "source": [
    "# non-parametric bootstrap is to obtain samples from the existing B times with replacement\n",
    "param  = np.zeros(shape = B)\n",
    "for i in np.arange(B):\n",
    "    np.random.seed(seed = 123 + i)\n",
    "    sample = np.random.uniform(low = 0, high = theta_n , size = n)\n",
    "    param[i] = max(sample)"
   ]
  },
  {
   "cell_type": "code",
   "execution_count": 53,
   "metadata": {},
   "outputs": [
    {
     "name": "stdout",
     "output_type": "stream",
     "text": [
      "The Non-parametric se is 0.0255.\n",
      "The Non-parametric confidence interval is (0.960 , 1.011)\n"
     ]
    }
   ],
   "source": [
    "nonparam_se = Non_param.std()\n",
    "nonparam_low = max(theta_n - nonparam_se,0)\n",
    "# note that we don't know the actual upper bound theta = 1\n",
    "nonparam_high = theta_n + nonparam_se\n",
    "print(\"The Non-parametric se is {0:0.4f}.\".format(nonparam_se))\n",
    "print(\"The Non-parametric confidence interval is ({0:0.3f} , {1:0.3f})\".format(nonparam_low,nonparam_high))"
   ]
  },
  {
   "cell_type": "code",
   "execution_count": 54,
   "metadata": {},
   "outputs": [
    {
     "name": "stdout",
     "output_type": "stream",
     "text": [
      "The parametric se is 0.0192.\n",
      "The parametric confidence interval is (0.966 , 1.005)\n"
     ]
    }
   ],
   "source": [
    "param_se = param.std()\n",
    "param_low = max(theta_n - param_se,0)\n",
    "# note that we don't know the actual upper bound theta = 1\n",
    "param_high = theta_n + param_se\n",
    "print(\"The parametric se is {0:0.4f}.\".format(param_se))\n",
    "print(\"The parametric confidence interval is ({0:0.3f} , {1:0.3f})\".format(param_low,param_high))"
   ]
  },
  {
   "cell_type": "code",
   "execution_count": 77,
   "metadata": {},
   "outputs": [
    {
     "data": {
      "image/png": "[encoded data removed]",
      "text/plain": [
       "<Figure size 432x288 with 1 Axes>"
      ]
     },
     "metadata": {
      "needs_background": "light"
     },
     "output_type": "display_data"
    }
   ],
   "source": [
    "plt.hist(param, bins = 100,  density = True)\n",
    "plt.plot(t,ActualPdf)\n",
    "plt.title('parametric vs actual pdf')\n",
    "plt.show()"
   ]
  },
  {
   "cell_type": "code",
   "execution_count": 78,
   "metadata": {},
   "outputs": [
    {
     "data": {
      "image/png": "[encoded data removed]",
      "text/plain": [
       "<Figure size 432x288 with 1 Axes>"
      ]
     },
     "metadata": {
      "needs_background": "light"
     },
     "output_type": "display_data"
    }
   ],
   "source": [
    "plt.hist(Non_param, bins = 100, density = True)\n",
    "plt.plot(t,ActualPdf)\n",
    "plt.title('non-parametric')\n",
    "plt.show()"
   ]
  },
  {
   "cell_type": "code",
   "execution_count": null,
   "metadata": {},
   "outputs": [],
   "source": []
  }
 ],
 "metadata": {
  "kernelspec": {
   "display_name": "Python 3",
   "language": "python",
   "name": "python3"
  },
  "language_info": {
   "codemirror_mode": {
    "name": "ipython",
    "version": 3
   },
   "file_extension": ".py",
   "mimetype": "text/x-python",
   "name": "python",
   "nbconvert_exporter": "python",
   "pygments_lexer": "ipython3",
   "version": "3.7.1"
  }
 },
 "nbformat": 4,
 "nbformat_minor": 2
}
