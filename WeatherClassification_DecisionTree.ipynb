{
 "cells": [
  {
   "cell_type": "markdown",
   "metadata": {},
   "source": [
    "In this Notebook we implement decision trees for classification of weather. The label is the \"relative humadity around 3 pm\".\n",
    "the starting point of this mini project is the EDX course of Python for Data Science by UCSD.\n",
    "\n",
    "We first follow their approach to picking the tree parameters ad-hoc. Then we consider cross validation to pick the best parameters to avoid overfitting. Once the parameters are finalized we estimate the test performance using Monte Carlo Cross Validation. This is essentially very helpful when the data set is too small that:\n",
    "\n",
    "A) We may need to use **all** the data for training and nothing is left for out-of sample to estimate the test error.\n",
    "\n",
    "B) The test data set is too small (or low in label = 1) that any estimate soleyly on that is not reliable (i.e. too volatile) \n"
   ]
  },
  {
   "cell_type": "code",
   "execution_count": 178,
   "metadata": {},
   "outputs": [],
   "source": [
    "# importing packages\n",
    "import pandas as pd\n",
    "import numpy as np\n",
    "from sklearn.metrics import accuracy_score\n",
    "from sklearn.metrics import roc_auc_score\n",
    "from sklearn.metrics import classification_report\n",
    "from sklearn.model_selection import GridSearchCV\n",
    "from sklearn.model_selection import train_test_split\n",
    "from sklearn.tree import DecisionTreeClassifier"
   ]
  },
  {
   "cell_type": "code",
   "execution_count": 179,
   "metadata": {},
   "outputs": [],
   "source": [
    "data = pd.read_csv('./weather/daily_weather.csv')"
   ]
  },
  {
   "cell_type": "code",
   "execution_count": 180,
   "metadata": {},
   "outputs": [
    {
     "data": {
      "text/plain": [
       "(1095, 11)"
      ]
     },
     "execution_count": 180,
     "metadata": {},
     "output_type": "execute_result"
    }
   ],
   "source": [
    "data.shape"
   ]
  },
  {
   "cell_type": "code",
   "execution_count": 181,
   "metadata": {},
   "outputs": [
    {
     "data": {
      "text/plain": [
       "Index(['number', 'air_pressure_9am', 'air_temp_9am', 'avg_wind_direction_9am',\n",
       "       'avg_wind_speed_9am', 'max_wind_direction_9am', 'max_wind_speed_9am',\n",
       "       'rain_accumulation_9am', 'rain_duration_9am', 'relative_humidity_9am',\n",
       "       'relative_humidity_3pm'],\n",
       "      dtype='object')"
      ]
     },
     "execution_count": 181,
     "metadata": {},
     "output_type": "execute_result"
    }
   ],
   "source": [
    "data.columns"
   ]
  },
  {
   "cell_type": "code",
   "execution_count": 182,
   "metadata": {},
   "outputs": [],
   "source": [
    "del data['number']"
   ]
  },
  {
   "cell_type": "code",
   "execution_count": 183,
   "metadata": {},
   "outputs": [
    {
     "data": {
      "text/plain": [
       "Index(['air_pressure_9am', 'air_temp_9am', 'avg_wind_direction_9am',\n",
       "       'avg_wind_speed_9am', 'max_wind_direction_9am', 'max_wind_speed_9am',\n",
       "       'rain_accumulation_9am', 'rain_duration_9am', 'relative_humidity_9am',\n",
       "       'relative_humidity_3pm'],\n",
       "      dtype='object')"
      ]
     },
     "execution_count": 183,
     "metadata": {},
     "output_type": "execute_result"
    }
   ],
   "source": [
    "data.columns"
   ]
  },
  {
   "cell_type": "code",
   "execution_count": 184,
   "metadata": {},
   "outputs": [
    {
     "data": {
      "text/plain": [
       "(1095, 10)"
      ]
     },
     "execution_count": 184,
     "metadata": {},
     "output_type": "execute_result"
    }
   ],
   "source": [
    "data.shape"
   ]
  },
  {
   "cell_type": "code",
   "execution_count": 185,
   "metadata": {},
   "outputs": [
    {
     "data": {
      "text/html": [
       "<div>\n",
       "<style scoped>\n",
       "    .dataframe tbody tr th:only-of-type {\n",
       "        vertical-align: middle;\n",
       "    }\n",
       "\n",
       "    .dataframe tbody tr th {\n",
       "        vertical-align: top;\n",
       "    }\n",
       "\n",
       "    .dataframe thead th {\n",
       "        text-align: right;\n",
       "    }\n",
       "</style>\n",
       "<table border=\"1\" class=\"dataframe\">\n",
       "  <thead>\n",
       "    <tr style=\"text-align: right;\">\n",
       "      <th></th>\n",
       "      <th>air_pressure_9am</th>\n",
       "      <th>air_temp_9am</th>\n",
       "      <th>avg_wind_direction_9am</th>\n",
       "      <th>avg_wind_speed_9am</th>\n",
       "      <th>max_wind_direction_9am</th>\n",
       "      <th>max_wind_speed_9am</th>\n",
       "      <th>rain_accumulation_9am</th>\n",
       "      <th>rain_duration_9am</th>\n",
       "      <th>relative_humidity_9am</th>\n",
       "      <th>relative_humidity_3pm</th>\n",
       "    </tr>\n",
       "  </thead>\n",
       "  <tbody>\n",
       "    <tr>\n",
       "      <th>0</th>\n",
       "      <td>918.060000</td>\n",
       "      <td>74.822000</td>\n",
       "      <td>271.100000</td>\n",
       "      <td>2.080354</td>\n",
       "      <td>295.400000</td>\n",
       "      <td>2.863283</td>\n",
       "      <td>0.0</td>\n",
       "      <td>0.0</td>\n",
       "      <td>42.420000</td>\n",
       "      <td>36.160000</td>\n",
       "    </tr>\n",
       "    <tr>\n",
       "      <th>1</th>\n",
       "      <td>917.347688</td>\n",
       "      <td>71.403843</td>\n",
       "      <td>101.935179</td>\n",
       "      <td>2.443009</td>\n",
       "      <td>140.471548</td>\n",
       "      <td>3.533324</td>\n",
       "      <td>0.0</td>\n",
       "      <td>0.0</td>\n",
       "      <td>24.328697</td>\n",
       "      <td>19.426597</td>\n",
       "    </tr>\n",
       "    <tr>\n",
       "      <th>2</th>\n",
       "      <td>923.040000</td>\n",
       "      <td>60.638000</td>\n",
       "      <td>51.000000</td>\n",
       "      <td>17.067852</td>\n",
       "      <td>63.700000</td>\n",
       "      <td>22.100967</td>\n",
       "      <td>0.0</td>\n",
       "      <td>20.0</td>\n",
       "      <td>8.900000</td>\n",
       "      <td>14.460000</td>\n",
       "    </tr>\n",
       "    <tr>\n",
       "      <th>3</th>\n",
       "      <td>920.502751</td>\n",
       "      <td>70.138895</td>\n",
       "      <td>198.832133</td>\n",
       "      <td>4.337363</td>\n",
       "      <td>211.203341</td>\n",
       "      <td>5.190045</td>\n",
       "      <td>0.0</td>\n",
       "      <td>0.0</td>\n",
       "      <td>12.189102</td>\n",
       "      <td>12.742547</td>\n",
       "    </tr>\n",
       "    <tr>\n",
       "      <th>4</th>\n",
       "      <td>921.160000</td>\n",
       "      <td>44.294000</td>\n",
       "      <td>277.800000</td>\n",
       "      <td>1.856660</td>\n",
       "      <td>136.500000</td>\n",
       "      <td>2.863283</td>\n",
       "      <td>8.9</td>\n",
       "      <td>14730.0</td>\n",
       "      <td>92.410000</td>\n",
       "      <td>76.740000</td>\n",
       "    </tr>\n",
       "  </tbody>\n",
       "</table>\n",
       "</div>"
      ],
      "text/plain": [
       "   air_pressure_9am  air_temp_9am  avg_wind_direction_9am  avg_wind_speed_9am  \\\n",
       "0        918.060000     74.822000              271.100000            2.080354   \n",
       "1        917.347688     71.403843              101.935179            2.443009   \n",
       "2        923.040000     60.638000               51.000000           17.067852   \n",
       "3        920.502751     70.138895              198.832133            4.337363   \n",
       "4        921.160000     44.294000              277.800000            1.856660   \n",
       "\n",
       "   max_wind_direction_9am  max_wind_speed_9am  rain_accumulation_9am  \\\n",
       "0              295.400000            2.863283                    0.0   \n",
       "1              140.471548            3.533324                    0.0   \n",
       "2               63.700000           22.100967                    0.0   \n",
       "3              211.203341            5.190045                    0.0   \n",
       "4              136.500000            2.863283                    8.9   \n",
       "\n",
       "   rain_duration_9am  relative_humidity_9am  relative_humidity_3pm  \n",
       "0                0.0              42.420000              36.160000  \n",
       "1                0.0              24.328697              19.426597  \n",
       "2               20.0               8.900000              14.460000  \n",
       "3                0.0              12.189102              12.742547  \n",
       "4            14730.0              92.410000              76.740000  "
      ]
     },
     "execution_count": 185,
     "metadata": {},
     "output_type": "execute_result"
    }
   ],
   "source": [
    "# Every column is related to weather around \"9am\" and the only column with \"3pm\" is our label.\n",
    "data.head(5) # Check the range and type of the features. \"label\" is continuous and needs transformation."
   ]
  },
  {
   "cell_type": "code",
   "execution_count": 186,
   "metadata": {},
   "outputs": [
    {
     "name": "stdout",
     "output_type": "stream",
     "text": [
      "2.83% of the population has missing values.\n",
      "The number of missing values for each columns are:\n"
     ]
    },
    {
     "data": {
      "text/plain": [
       "air_pressure_9am          3\n",
       "air_temp_9am              5\n",
       "avg_wind_direction_9am    4\n",
       "avg_wind_speed_9am        3\n",
       "max_wind_direction_9am    3\n",
       "max_wind_speed_9am        4\n",
       "rain_accumulation_9am     6\n",
       "rain_duration_9am         3\n",
       "relative_humidity_9am     0\n",
       "relative_humidity_3pm     0\n",
       "dtype: int64"
      ]
     },
     "execution_count": 186,
     "metadata": {},
     "output_type": "execute_result"
    }
   ],
   "source": [
    "data.isnull() #Elementwise True/False\n",
    "data.isnull().any(axis = 0) # Reports if each column (feature or label) has at least 1 missing value\n",
    "data.isnull().any(axis = 1) # Reports if at leaset 1 of the columns for each record is missing\n",
    "data.loc[data.isnull().any(axis = 1),:] # List of all records with at least one missing value\n",
    "len(data.loc[data.isnull().any(axis =1),:]) # 31 records have missing values\n",
    "missing_rate = \"{0:.2f}\".format(len(data.loc[data.isnull().any(axis =1),:])*100 /len(data))\n",
    "print(missing_rate + \"% of the population has missing values.\")\n",
    "print(\"The number of missing values for each columns are:\")\n",
    "31 - data.loc[data.isnull().any(axis =1),:].count()\n"
   ]
  },
  {
   "cell_type": "code",
   "execution_count": 187,
   "metadata": {},
   "outputs": [],
   "source": [
    "data.dropna(axis = 0,inplace = True)"
   ]
  },
  {
   "cell_type": "code",
   "execution_count": 188,
   "metadata": {},
   "outputs": [
    {
     "data": {
      "text/plain": [
       "(1064, 10)"
      ]
     },
     "execution_count": 188,
     "metadata": {},
     "output_type": "execute_result"
    }
   ],
   "source": [
    "data.shape # The 31 records were removed \"in place\""
   ]
  },
  {
   "cell_type": "code",
   "execution_count": 189,
   "metadata": {},
   "outputs": [
    {
     "data": {
      "text/plain": [
       "count    1064.000000\n",
       "mean       35.148381\n",
       "std        22.365475\n",
       "min         5.300000\n",
       "25%        17.360468\n",
       "50%        24.371286\n",
       "75%        51.922500\n",
       "max        92.250000\n",
       "Name: relative_humidity_3pm, dtype: float64"
      ]
     },
     "execution_count": 189,
     "metadata": {},
     "output_type": "execute_result"
    }
   ],
   "source": [
    "# How to convert the problem to a binary classification.\n",
    "data.loc[:,'relative_humidity_3pm'].describe()\n",
    " \n"
   ]
  },
  {
   "cell_type": "code",
   "execution_count": 190,
   "metadata": {},
   "outputs": [],
   "source": [
    "# To make it a \"balanced\" data set, we pick 24.37 to be the threshold for conversion to binary\n",
    "clean_data = data.copy(deep = True)\n",
    "clean_data.loc[:,'HiHumidLabel'] = 1*(clean_data.loc[:,'relative_humidity_3pm']> 24.37)"
   ]
  },
  {
   "cell_type": "code",
   "execution_count": 191,
   "metadata": {},
   "outputs": [
    {
     "data": {
      "text/plain": [
       "0.5"
      ]
     },
     "execution_count": 191,
     "metadata": {},
     "output_type": "execute_result"
    }
   ],
   "source": [
    "clean_data.loc[:,'HiHumidLabel'].mean() # 50%-50% split"
   ]
  },
  {
   "cell_type": "code",
   "execution_count": 192,
   "metadata": {},
   "outputs": [],
   "source": [
    "# Store the label in y\n",
    "y = clean_data.loc[:,['HiHumidLabel']].copy(deep = True)"
   ]
  },
  {
   "cell_type": "code",
   "execution_count": 193,
   "metadata": {},
   "outputs": [
    {
     "data": {
      "text/plain": [
       "['air_pressure_9am',\n",
       " 'air_temp_9am',\n",
       " 'avg_wind_direction_9am',\n",
       " 'avg_wind_speed_9am',\n",
       " 'max_wind_direction_9am',\n",
       " 'max_wind_speed_9am',\n",
       " 'rain_accumulation_9am',\n",
       " 'rain_duration_9am',\n",
       " 'relative_humidity_9am']"
      ]
     },
     "execution_count": 193,
     "metadata": {},
     "output_type": "execute_result"
    }
   ],
   "source": [
    "morning_features = [c for c in clean_data.columns.values if '9am' in c]\n",
    "morning_features"
   ]
  },
  {
   "cell_type": "code",
   "execution_count": 194,
   "metadata": {},
   "outputs": [],
   "source": [
    "# Store features in X\n",
    "X = clean_data.loc[:,morning_features].copy(deep = True)"
   ]
  },
  {
   "cell_type": "code",
   "execution_count": 195,
   "metadata": {},
   "outputs": [
    {
     "data": {
      "text/html": [
       "<div>\n",
       "<style scoped>\n",
       "    .dataframe tbody tr th:only-of-type {\n",
       "        vertical-align: middle;\n",
       "    }\n",
       "\n",
       "    .dataframe tbody tr th {\n",
       "        vertical-align: top;\n",
       "    }\n",
       "\n",
       "    .dataframe thead th {\n",
       "        text-align: right;\n",
       "    }\n",
       "</style>\n",
       "<table border=\"1\" class=\"dataframe\">\n",
       "  <thead>\n",
       "    <tr style=\"text-align: right;\">\n",
       "      <th></th>\n",
       "      <th>air_pressure_9am</th>\n",
       "      <th>air_temp_9am</th>\n",
       "      <th>avg_wind_direction_9am</th>\n",
       "      <th>avg_wind_speed_9am</th>\n",
       "      <th>max_wind_direction_9am</th>\n",
       "      <th>max_wind_speed_9am</th>\n",
       "      <th>rain_accumulation_9am</th>\n",
       "      <th>rain_duration_9am</th>\n",
       "      <th>relative_humidity_9am</th>\n",
       "    </tr>\n",
       "  </thead>\n",
       "  <tbody>\n",
       "    <tr>\n",
       "      <th>0</th>\n",
       "      <td>918.060000</td>\n",
       "      <td>74.822000</td>\n",
       "      <td>271.100000</td>\n",
       "      <td>2.080354</td>\n",
       "      <td>295.400000</td>\n",
       "      <td>2.863283</td>\n",
       "      <td>0.0</td>\n",
       "      <td>0.0</td>\n",
       "      <td>42.420000</td>\n",
       "    </tr>\n",
       "    <tr>\n",
       "      <th>1</th>\n",
       "      <td>917.347688</td>\n",
       "      <td>71.403843</td>\n",
       "      <td>101.935179</td>\n",
       "      <td>2.443009</td>\n",
       "      <td>140.471548</td>\n",
       "      <td>3.533324</td>\n",
       "      <td>0.0</td>\n",
       "      <td>0.0</td>\n",
       "      <td>24.328697</td>\n",
       "    </tr>\n",
       "    <tr>\n",
       "      <th>2</th>\n",
       "      <td>923.040000</td>\n",
       "      <td>60.638000</td>\n",
       "      <td>51.000000</td>\n",
       "      <td>17.067852</td>\n",
       "      <td>63.700000</td>\n",
       "      <td>22.100967</td>\n",
       "      <td>0.0</td>\n",
       "      <td>20.0</td>\n",
       "      <td>8.900000</td>\n",
       "    </tr>\n",
       "    <tr>\n",
       "      <th>3</th>\n",
       "      <td>920.502751</td>\n",
       "      <td>70.138895</td>\n",
       "      <td>198.832133</td>\n",
       "      <td>4.337363</td>\n",
       "      <td>211.203341</td>\n",
       "      <td>5.190045</td>\n",
       "      <td>0.0</td>\n",
       "      <td>0.0</td>\n",
       "      <td>12.189102</td>\n",
       "    </tr>\n",
       "    <tr>\n",
       "      <th>4</th>\n",
       "      <td>921.160000</td>\n",
       "      <td>44.294000</td>\n",
       "      <td>277.800000</td>\n",
       "      <td>1.856660</td>\n",
       "      <td>136.500000</td>\n",
       "      <td>2.863283</td>\n",
       "      <td>8.9</td>\n",
       "      <td>14730.0</td>\n",
       "      <td>92.410000</td>\n",
       "    </tr>\n",
       "  </tbody>\n",
       "</table>\n",
       "</div>"
      ],
      "text/plain": [
       "   air_pressure_9am  air_temp_9am  avg_wind_direction_9am  avg_wind_speed_9am  \\\n",
       "0        918.060000     74.822000              271.100000            2.080354   \n",
       "1        917.347688     71.403843              101.935179            2.443009   \n",
       "2        923.040000     60.638000               51.000000           17.067852   \n",
       "3        920.502751     70.138895              198.832133            4.337363   \n",
       "4        921.160000     44.294000              277.800000            1.856660   \n",
       "\n",
       "   max_wind_direction_9am  max_wind_speed_9am  rain_accumulation_9am  \\\n",
       "0              295.400000            2.863283                    0.0   \n",
       "1              140.471548            3.533324                    0.0   \n",
       "2               63.700000           22.100967                    0.0   \n",
       "3              211.203341            5.190045                    0.0   \n",
       "4              136.500000            2.863283                    8.9   \n",
       "\n",
       "   rain_duration_9am  relative_humidity_9am  \n",
       "0                0.0              42.420000  \n",
       "1                0.0              24.328697  \n",
       "2               20.0               8.900000  \n",
       "3                0.0              12.189102  \n",
       "4            14730.0              92.410000  "
      ]
     },
     "execution_count": 195,
     "metadata": {},
     "output_type": "execute_result"
    }
   ],
   "source": [
    "X.head()"
   ]
  },
  {
   "cell_type": "code",
   "execution_count": 196,
   "metadata": {},
   "outputs": [
    {
     "data": {
      "text/html": [
       "<div>\n",
       "<style scoped>\n",
       "    .dataframe tbody tr th:only-of-type {\n",
       "        vertical-align: middle;\n",
       "    }\n",
       "\n",
       "    .dataframe tbody tr th {\n",
       "        vertical-align: top;\n",
       "    }\n",
       "\n",
       "    .dataframe thead th {\n",
       "        text-align: right;\n",
       "    }\n",
       "</style>\n",
       "<table border=\"1\" class=\"dataframe\">\n",
       "  <thead>\n",
       "    <tr style=\"text-align: right;\">\n",
       "      <th></th>\n",
       "      <th>HiHumidLabel</th>\n",
       "    </tr>\n",
       "  </thead>\n",
       "  <tbody>\n",
       "    <tr>\n",
       "      <th>0</th>\n",
       "      <td>1</td>\n",
       "    </tr>\n",
       "    <tr>\n",
       "      <th>1</th>\n",
       "      <td>0</td>\n",
       "    </tr>\n",
       "    <tr>\n",
       "      <th>2</th>\n",
       "      <td>0</td>\n",
       "    </tr>\n",
       "    <tr>\n",
       "      <th>3</th>\n",
       "      <td>0</td>\n",
       "    </tr>\n",
       "    <tr>\n",
       "      <th>4</th>\n",
       "      <td>1</td>\n",
       "    </tr>\n",
       "  </tbody>\n",
       "</table>\n",
       "</div>"
      ],
      "text/plain": [
       "   HiHumidLabel\n",
       "0             1\n",
       "1             0\n",
       "2             0\n",
       "3             0\n",
       "4             1"
      ]
     },
     "execution_count": 196,
     "metadata": {},
     "output_type": "execute_result"
    }
   ],
   "source": [
    "y.head()"
   ]
  },
  {
   "cell_type": "code",
   "execution_count": 197,
   "metadata": {},
   "outputs": [],
   "source": [
    "# Split in  Train and Test (Split 2/3 training, 1/3 testing)\n",
    "X_train, X_test, y_train, y_test = train_test_split(X, y, test_size = 0.33, random_state = 1234 )"
   ]
  },
  {
   "cell_type": "code",
   "execution_count": 198,
   "metadata": {},
   "outputs": [
    {
     "data": {
      "text/html": [
       "<div>\n",
       "<style scoped>\n",
       "    .dataframe tbody tr th:only-of-type {\n",
       "        vertical-align: middle;\n",
       "    }\n",
       "\n",
       "    .dataframe tbody tr th {\n",
       "        vertical-align: top;\n",
       "    }\n",
       "\n",
       "    .dataframe thead th {\n",
       "        text-align: right;\n",
       "    }\n",
       "</style>\n",
       "<table border=\"1\" class=\"dataframe\">\n",
       "  <thead>\n",
       "    <tr style=\"text-align: right;\">\n",
       "      <th></th>\n",
       "      <th>air_pressure_9am</th>\n",
       "      <th>air_temp_9am</th>\n",
       "      <th>avg_wind_direction_9am</th>\n",
       "      <th>avg_wind_speed_9am</th>\n",
       "      <th>max_wind_direction_9am</th>\n",
       "      <th>max_wind_speed_9am</th>\n",
       "      <th>rain_accumulation_9am</th>\n",
       "      <th>rain_duration_9am</th>\n",
       "      <th>relative_humidity_9am</th>\n",
       "    </tr>\n",
       "  </thead>\n",
       "  <tbody>\n",
       "    <tr>\n",
       "      <th>149</th>\n",
       "      <td>919.660000</td>\n",
       "      <td>66.920000</td>\n",
       "      <td>105.400000</td>\n",
       "      <td>2.214571</td>\n",
       "      <td>147.000000</td>\n",
       "      <td>3.198824</td>\n",
       "      <td>0.00</td>\n",
       "      <td>0.0</td>\n",
       "      <td>28.140000</td>\n",
       "    </tr>\n",
       "    <tr>\n",
       "      <th>327</th>\n",
       "      <td>916.300000</td>\n",
       "      <td>58.496000</td>\n",
       "      <td>175.000000</td>\n",
       "      <td>4.071231</td>\n",
       "      <td>182.400000</td>\n",
       "      <td>4.719943</td>\n",
       "      <td>0.00</td>\n",
       "      <td>0.0</td>\n",
       "      <td>24.050000</td>\n",
       "    </tr>\n",
       "    <tr>\n",
       "      <th>347</th>\n",
       "      <td>920.181295</td>\n",
       "      <td>58.908109</td>\n",
       "      <td>57.900885</td>\n",
       "      <td>9.395121</td>\n",
       "      <td>75.724336</td>\n",
       "      <td>11.735431</td>\n",
       "      <td>0.00</td>\n",
       "      <td>0.0</td>\n",
       "      <td>18.933142</td>\n",
       "    </tr>\n",
       "    <tr>\n",
       "      <th>243</th>\n",
       "      <td>922.320000</td>\n",
       "      <td>55.526000</td>\n",
       "      <td>215.900000</td>\n",
       "      <td>9.395148</td>\n",
       "      <td>228.500000</td>\n",
       "      <td>10.849159</td>\n",
       "      <td>0.02</td>\n",
       "      <td>60.0</td>\n",
       "      <td>91.120000</td>\n",
       "    </tr>\n",
       "    <tr>\n",
       "      <th>8</th>\n",
       "      <td>920.080000</td>\n",
       "      <td>80.582000</td>\n",
       "      <td>40.700000</td>\n",
       "      <td>4.518619</td>\n",
       "      <td>63.000000</td>\n",
       "      <td>5.883152</td>\n",
       "      <td>0.00</td>\n",
       "      <td>0.0</td>\n",
       "      <td>29.580000</td>\n",
       "    </tr>\n",
       "  </tbody>\n",
       "</table>\n",
       "</div>"
      ],
      "text/plain": [
       "     air_pressure_9am  air_temp_9am  avg_wind_direction_9am  \\\n",
       "149        919.660000     66.920000              105.400000   \n",
       "327        916.300000     58.496000              175.000000   \n",
       "347        920.181295     58.908109               57.900885   \n",
       "243        922.320000     55.526000              215.900000   \n",
       "8          920.080000     80.582000               40.700000   \n",
       "\n",
       "     avg_wind_speed_9am  max_wind_direction_9am  max_wind_speed_9am  \\\n",
       "149            2.214571              147.000000            3.198824   \n",
       "327            4.071231              182.400000            4.719943   \n",
       "347            9.395121               75.724336           11.735431   \n",
       "243            9.395148              228.500000           10.849159   \n",
       "8              4.518619               63.000000            5.883152   \n",
       "\n",
       "     rain_accumulation_9am  rain_duration_9am  relative_humidity_9am  \n",
       "149                   0.00                0.0              28.140000  \n",
       "327                   0.00                0.0              24.050000  \n",
       "347                   0.00                0.0              18.933142  \n",
       "243                   0.02               60.0              91.120000  \n",
       "8                     0.00                0.0              29.580000  "
      ]
     },
     "execution_count": 198,
     "metadata": {},
     "output_type": "execute_result"
    }
   ],
   "source": [
    "X_train.head()"
   ]
  },
  {
   "cell_type": "code",
   "execution_count": 199,
   "metadata": {},
   "outputs": [
    {
     "name": "stdout",
     "output_type": "stream",
     "text": [
      "49.16% is the rate of label 1 in Training data set.\n",
      "51.70% is the rate of label 1 in Testing data set.\n"
     ]
    }
   ],
   "source": [
    "print(\"{0:.2f}\".format(y_train.loc[:,'HiHumidLabel'].mean()*100) + \"% is the rate of label 1 in Training data set.\")\n",
    "print(\"{0:.2f}\".format(y_test.loc[:,'HiHumidLabel'].mean()*100) + \"% is the rate of label 1 in Testing data set.\")"
   ]
  },
  {
   "cell_type": "code",
   "execution_count": 200,
   "metadata": {},
   "outputs": [
    {
     "data": {
      "text/plain": [
       "DecisionTreeClassifier(class_weight=None, criterion='gini', max_depth=None,\n",
       "            max_features=None, max_leaf_nodes=10,\n",
       "            min_impurity_decrease=0.0, min_impurity_split=None,\n",
       "            min_samples_leaf=1, min_samples_split=2,\n",
       "            min_weight_fraction_leaf=0.0, presort=False, random_state=1234,\n",
       "            splitter='best')"
      ]
     },
     "execution_count": 200,
     "metadata": {},
     "output_type": "execute_result"
    }
   ],
   "source": [
    "# To beign with, let's control the number of maximum leaf nodes to be 10\n",
    "h_classifier_1 = DecisionTreeClassifier(max_leaf_nodes = 10, random_state = 1234)\n",
    "h_classifier_1.fit(X_train, y_train)"
   ]
  },
  {
   "cell_type": "code",
   "execution_count": 201,
   "metadata": {},
   "outputs": [],
   "source": [
    "prediction = h_classifier_1.predict(X_test)"
   ]
  },
  {
   "cell_type": "code",
   "execution_count": 202,
   "metadata": {},
   "outputs": [
    {
     "name": "stdout",
     "output_type": "stream",
     "text": [
      "The accuracy is 83.52%\n"
     ]
    }
   ],
   "source": [
    "print(\"The accuracy is {0:.2f}%\".format(accuracy_score(y_true = y_test, y_pred = prediction)*100))"
   ]
  },
  {
   "cell_type": "code",
   "execution_count": 203,
   "metadata": {},
   "outputs": [],
   "source": [
    "p_test = h_classifier_1.predict_proba(X_test)\n",
    "p = [p_test[i][1] for i in list(range(len(p_test)))]"
   ]
  },
  {
   "cell_type": "code",
   "execution_count": 94,
   "metadata": {},
   "outputs": [
    {
     "name": "stdout",
     "output_type": "stream",
     "text": [
      "The Area under the curve is 0.89.\n"
     ]
    }
   ],
   "source": [
    "print(\"The Area under the curve is {0:.2f}.\".format(roc_auc_score(y_true = y_test, y_score = p)))"
   ]
  },
  {
   "cell_type": "code",
   "execution_count": 204,
   "metadata": {},
   "outputs": [
    {
     "name": "stdout",
     "output_type": "stream",
     "text": [
      "              precision    recall  f1-score   support\n",
      "\n",
      "           0       0.81      0.86      0.83       170\n",
      "           1       0.86      0.81      0.84       182\n",
      "\n",
      "   micro avg       0.84      0.84      0.84       352\n",
      "   macro avg       0.84      0.84      0.84       352\n",
      "weighted avg       0.84      0.84      0.84       352\n",
      "\n"
     ]
    }
   ],
   "source": [
    "print(classification_report(y_true = y_test, y_pred = prediction))"
   ]
  },
  {
   "cell_type": "code",
   "execution_count": 205,
   "metadata": {},
   "outputs": [],
   "source": [
    "pred_all  = h_classifier_1.predict(X)"
   ]
  },
  {
   "cell_type": "code",
   "execution_count": 206,
   "metadata": {},
   "outputs": [],
   "source": [
    "p_all= h_classifier_1.predict_proba(X)\n",
    "p = [p_all[i][1] for i in list(range(len(p_all)))]"
   ]
  },
  {
   "cell_type": "code",
   "execution_count": 207,
   "metadata": {},
   "outputs": [
    {
     "name": "stdout",
     "output_type": "stream",
     "text": [
      "The Area under the curve for the whole data set is 0.93.\n"
     ]
    }
   ],
   "source": [
    "print(\"The Area under the curve for the whole data set is {0:.2f}.\".format(roc_auc_score(y_true = y, y_score = p)))"
   ]
  },
  {
   "cell_type": "code",
   "execution_count": 208,
   "metadata": {},
   "outputs": [
    {
     "name": "stdout",
     "output_type": "stream",
     "text": [
      "The accuracy for the whole data set is 89.19%\n"
     ]
    }
   ],
   "source": [
    "print(\"The accuracy for the whole data set is {0:.2f}%\".format(accuracy_score(y_true = y, y_pred = pred_all)*100))"
   ]
  },
  {
   "cell_type": "markdown",
   "metadata": {},
   "source": [
    "# Grid Search Cross Validation\n",
    "In previous section we picked the complexity of the tree defined by maximum number of leaf nodes of the tree to be 10. The Accuracy and ROC AUC on the test data was **83.52%** and **0.89** respectively. These numbers are **89.19%** and **0.93** on **100%** of the population.\n",
    "\n",
    "In the following section, we carry out a grid search on two measures of tree complexity; namely\n",
    "a) Maximum number of leaf nodes\n",
    "b) Maximum depth of the tree.\n",
    "\n",
    "We carry out a grid search using cross validation to pick the \"best\" of these parameters. The best is defined in terms of either average roc auc or average accuracy on the \"leaft-out\" folds. The number of folds are also varied between 3, 5, and 10 to see how this will impact the optimum parameters.\n",
    "\n",
    "\n",
    "This method is carried out twice: once the folds are based on split of the **training** data set and once on the plit of **all** the data set. The idea is that if cross validation is done, there is noo point to keep out a portion for **testing**. "
   ]
  },
  {
   "cell_type": "code",
   "execution_count": 213,
   "metadata": {},
   "outputs": [],
   "source": [
    "def Implement_GridSearch(X_train, y_train, X_test, y_test, num_fold = 5, scoring = 'accuracy', param = {'max_leaf_nodes': list(range(2,20)), 'max_depth':[None] + list(range(1,6))}, randomseed = 1234):\n",
    "    dt = DecisionTreeClassifier(random_state = randomseed)\n",
    "    clf = GridSearchCV(dt, param, scoring = scoring, iid = True, cv = num_fold, refit = True, return_train_score = True )\n",
    "    clf.fit(X_train, y_train)\n",
    "    Grid_pred = clf.predict(X_test)\n",
    "    p_test = clf.predict_proba(X_test)\n",
    "    p = [p_test[i][1] for i in list(range(len(p_test)))]\n",
    "    #print(clf.best_params_)\n",
    "    #print(\"The accuracy of the grid seach version is {0:.2f}% on test data set.\".format(accuracy_score(y_true = y_test, y_pred = Grid_pred)*100))\n",
    "    #print(\"The Area under the curve for the grid search is {0:.2f} on test data set.\".format(roc_auc_score(y_true = y_test, y_score = p)))\n",
    "    return clf.best_params_ , accuracy_score(y_true = y_test, y_pred = Grid_pred), roc_auc_score(y_true = y_test, y_score = p) "
   ]
  },
  {
   "cell_type": "code",
   "execution_count": 214,
   "metadata": {},
   "outputs": [],
   "source": [
    "folds = [3, 5 , 10]\n",
    "scoring_method = ['accuracy','roc_auc']"
   ]
  },
  {
   "cell_type": "code",
   "execution_count": 215,
   "metadata": {},
   "outputs": [
    {
     "data": {
      "text/html": [
       "<div>\n",
       "<style scoped>\n",
       "    .dataframe tbody tr th:only-of-type {\n",
       "        vertical-align: middle;\n",
       "    }\n",
       "\n",
       "    .dataframe tbody tr th {\n",
       "        vertical-align: top;\n",
       "    }\n",
       "\n",
       "    .dataframe thead th {\n",
       "        text-align: right;\n",
       "    }\n",
       "</style>\n",
       "<table border=\"1\" class=\"dataframe\">\n",
       "  <thead>\n",
       "    <tr style=\"text-align: right;\">\n",
       "      <th></th>\n",
       "      <th>Nfold</th>\n",
       "      <th>Scoring</th>\n",
       "      <th>Best</th>\n",
       "      <th>Accuracy</th>\n",
       "      <th>AUC</th>\n",
       "    </tr>\n",
       "  </thead>\n",
       "  <tbody>\n",
       "    <tr>\n",
       "      <th>0</th>\n",
       "      <td>3</td>\n",
       "      <td>accuracy</td>\n",
       "      <td>{'max_depth': 3, 'max_leaf_nodes': 7}</td>\n",
       "      <td>0.840909</td>\n",
       "      <td>0.886732</td>\n",
       "    </tr>\n",
       "    <tr>\n",
       "      <th>1</th>\n",
       "      <td>3</td>\n",
       "      <td>roc_auc</td>\n",
       "      <td>{'max_depth': 3, 'max_leaf_nodes': 12}</td>\n",
       "      <td>0.840909</td>\n",
       "      <td>0.913332</td>\n",
       "    </tr>\n",
       "    <tr>\n",
       "      <th>2</th>\n",
       "      <td>5</td>\n",
       "      <td>accuracy</td>\n",
       "      <td>{'max_depth': 2, 'max_leaf_nodes': 7}</td>\n",
       "      <td>0.846591</td>\n",
       "      <td>0.884567</td>\n",
       "    </tr>\n",
       "    <tr>\n",
       "      <th>3</th>\n",
       "      <td>5</td>\n",
       "      <td>roc_auc</td>\n",
       "      <td>{'max_depth': 2, 'max_leaf_nodes': 8}</td>\n",
       "      <td>0.846591</td>\n",
       "      <td>0.894360</td>\n",
       "    </tr>\n",
       "    <tr>\n",
       "      <th>4</th>\n",
       "      <td>10</td>\n",
       "      <td>accuracy</td>\n",
       "      <td>{'max_depth': None, 'max_leaf_nodes': 9}</td>\n",
       "      <td>0.835227</td>\n",
       "      <td>0.885763</td>\n",
       "    </tr>\n",
       "    <tr>\n",
       "      <th>5</th>\n",
       "      <td>10</td>\n",
       "      <td>roc_auc</td>\n",
       "      <td>{'max_depth': 2, 'max_leaf_nodes': 8}</td>\n",
       "      <td>0.846591</td>\n",
       "      <td>0.894360</td>\n",
       "    </tr>\n",
       "  </tbody>\n",
       "</table>\n",
       "</div>"
      ],
      "text/plain": [
       "   Nfold   Scoring                                      Best  Accuracy  \\\n",
       "0      3  accuracy     {'max_depth': 3, 'max_leaf_nodes': 7}  0.840909   \n",
       "1      3   roc_auc    {'max_depth': 3, 'max_leaf_nodes': 12}  0.840909   \n",
       "2      5  accuracy     {'max_depth': 2, 'max_leaf_nodes': 7}  0.846591   \n",
       "3      5   roc_auc     {'max_depth': 2, 'max_leaf_nodes': 8}  0.846591   \n",
       "4     10  accuracy  {'max_depth': None, 'max_leaf_nodes': 9}  0.835227   \n",
       "5     10   roc_auc     {'max_depth': 2, 'max_leaf_nodes': 8}  0.846591   \n",
       "\n",
       "        AUC  \n",
       "0  0.886732  \n",
       "1  0.913332  \n",
       "2  0.884567  \n",
       "3  0.894360  \n",
       "4  0.885763  \n",
       "5  0.894360  "
      ]
     },
     "execution_count": 215,
     "metadata": {},
     "output_type": "execute_result"
    }
   ],
   "source": [
    "# Train, Test\n",
    "N_fold = []\n",
    "SC_method = []\n",
    "ACC = []\n",
    "AUC = []\n",
    "Best_parm = []\n",
    "Train_X = X_train\n",
    "Train_y = y_train\n",
    "Test_X = X_test\n",
    "Test_y = y_test \n",
    "for f in folds:\n",
    "    for sc in scoring_method:\n",
    "        bparam, acc, auc = Implement_GridSearch(Train_X, Train_y, Test_X, Test_y, num_fold = f, scoring = sc, param = {'max_leaf_nodes': list(range(2,20)), 'max_depth':[None] + list(range(1,6))}, randomseed = 1234)\n",
    "        N_fold.append(f)\n",
    "        SC_method.append(sc)\n",
    "        Best_parm.append(bparam)\n",
    "        ACC.append(acc)\n",
    "        AUC.append(auc)\n",
    "\n",
    "Results_Train_Test = pd.DataFrame({'Nfold' : N_fold, 'Scoring': SC_method, 'Best': Best_parm, 'Accuracy': ACC, 'AUC' : AUC})\n",
    "Results_Train_Test"
   ]
  },
  {
   "cell_type": "code",
   "execution_count": 216,
   "metadata": {},
   "outputs": [
    {
     "data": {
      "text/html": [
       "<div>\n",
       "<style scoped>\n",
       "    .dataframe tbody tr th:only-of-type {\n",
       "        vertical-align: middle;\n",
       "    }\n",
       "\n",
       "    .dataframe tbody tr th {\n",
       "        vertical-align: top;\n",
       "    }\n",
       "\n",
       "    .dataframe thead th {\n",
       "        text-align: right;\n",
       "    }\n",
       "</style>\n",
       "<table border=\"1\" class=\"dataframe\">\n",
       "  <thead>\n",
       "    <tr style=\"text-align: right;\">\n",
       "      <th></th>\n",
       "      <th>Nfold</th>\n",
       "      <th>Scoring</th>\n",
       "      <th>Best</th>\n",
       "      <th>Accuracy</th>\n",
       "      <th>AUC</th>\n",
       "    </tr>\n",
       "  </thead>\n",
       "  <tbody>\n",
       "    <tr>\n",
       "      <th>0</th>\n",
       "      <td>3</td>\n",
       "      <td>accuracy</td>\n",
       "      <td>{'max_depth': 3, 'max_leaf_nodes': 7}</td>\n",
       "      <td>0.886278</td>\n",
       "      <td>0.928589</td>\n",
       "    </tr>\n",
       "    <tr>\n",
       "      <th>1</th>\n",
       "      <td>3</td>\n",
       "      <td>roc_auc</td>\n",
       "      <td>{'max_depth': 3, 'max_leaf_nodes': 12}</td>\n",
       "      <td>0.889098</td>\n",
       "      <td>0.948997</td>\n",
       "    </tr>\n",
       "    <tr>\n",
       "      <th>2</th>\n",
       "      <td>5</td>\n",
       "      <td>accuracy</td>\n",
       "      <td>{'max_depth': 2, 'max_leaf_nodes': 7}</td>\n",
       "      <td>0.878759</td>\n",
       "      <td>0.928158</td>\n",
       "    </tr>\n",
       "    <tr>\n",
       "      <th>3</th>\n",
       "      <td>5</td>\n",
       "      <td>roc_auc</td>\n",
       "      <td>{'max_depth': 2, 'max_leaf_nodes': 8}</td>\n",
       "      <td>0.878759</td>\n",
       "      <td>0.935935</td>\n",
       "    </tr>\n",
       "    <tr>\n",
       "      <th>4</th>\n",
       "      <td>10</td>\n",
       "      <td>accuracy</td>\n",
       "      <td>{'max_depth': None, 'max_leaf_nodes': 9}</td>\n",
       "      <td>0.890038</td>\n",
       "      <td>0.931458</td>\n",
       "    </tr>\n",
       "    <tr>\n",
       "      <th>5</th>\n",
       "      <td>10</td>\n",
       "      <td>roc_auc</td>\n",
       "      <td>{'max_depth': 2, 'max_leaf_nodes': 8}</td>\n",
       "      <td>0.878759</td>\n",
       "      <td>0.935935</td>\n",
       "    </tr>\n",
       "  </tbody>\n",
       "</table>\n",
       "</div>"
      ],
      "text/plain": [
       "   Nfold   Scoring                                      Best  Accuracy  \\\n",
       "0      3  accuracy     {'max_depth': 3, 'max_leaf_nodes': 7}  0.886278   \n",
       "1      3   roc_auc    {'max_depth': 3, 'max_leaf_nodes': 12}  0.889098   \n",
       "2      5  accuracy     {'max_depth': 2, 'max_leaf_nodes': 7}  0.878759   \n",
       "3      5   roc_auc     {'max_depth': 2, 'max_leaf_nodes': 8}  0.878759   \n",
       "4     10  accuracy  {'max_depth': None, 'max_leaf_nodes': 9}  0.890038   \n",
       "5     10   roc_auc     {'max_depth': 2, 'max_leaf_nodes': 8}  0.878759   \n",
       "\n",
       "        AUC  \n",
       "0  0.928589  \n",
       "1  0.948997  \n",
       "2  0.928158  \n",
       "3  0.935935  \n",
       "4  0.931458  \n",
       "5  0.935935  "
      ]
     },
     "execution_count": 216,
     "metadata": {},
     "output_type": "execute_result"
    }
   ],
   "source": [
    "# Train, all\n",
    "N_fold = []\n",
    "SC_method = []\n",
    "ACC = []\n",
    "AUC = []\n",
    "Best_parm = []\n",
    "Train_X = X_train\n",
    "Train_y = y_train\n",
    "Test_X = X\n",
    "Test_y = y \n",
    "for f in folds:\n",
    "    for sc in scoring_method:\n",
    "        bparam, acc, auc = Implement_GridSearch(Train_X, Train_y, Test_X, Test_y, num_fold = f, scoring = sc, param = {'max_leaf_nodes': list(range(2,20)), 'max_depth':[None] + list(range(1,6))}, randomseed = 1234)\n",
    "        N_fold.append(f)\n",
    "        SC_method.append(sc)\n",
    "        Best_parm.append(bparam)\n",
    "        ACC.append(acc)\n",
    "        AUC.append(auc)\n",
    "\n",
    "Results_Train_All = pd.DataFrame({'Nfold' : N_fold, 'Scoring': SC_method, 'Best': Best_parm, 'Accuracy': ACC, 'AUC' : AUC})\n",
    "Results_Train_All"
   ]
  },
  {
   "cell_type": "markdown",
   "metadata": {},
   "source": [
    "Based on performance on the **test** data set, it seems maximum leaf node of 7 or 8 with max depth of 2 are doing well. Due to slightly better performance of max leaf node of 8, we pick that one. The results based on 100% of the data is also consistent.\n",
    "\n",
    "There is a sudden improvement on **100%** data when max_depth = None and max_leaf = 9 which is not consistent on **test** data set and for that reason is not considered. Similary for max_depth = 3 and max_leaf_node = 12 both accuracy was higher only in **3-fold** crosss validation when roc_auc was the decision factor. For that reason we ignored that as well.\n",
    "\n",
    "For the resulting max leaf node = 8 and max_depth = 2; the performance is:\n",
    "\n",
    "**On testing**: Accuracy: 84.66%, ROC_AUC: 0.89\n",
    "\n",
    "**On Whole population**: Accuracy: 87.88%, ROC_AUC: 0.93\n",
    "\n",
    "As pointed out earlier, In case of small data set (not the case here thought), there is no need to keep out a portion of the data out for test and we can repeat all above but using the whole data set.\n"
   ]
  },
  {
   "cell_type": "code",
   "execution_count": 217,
   "metadata": {},
   "outputs": [
    {
     "data": {
      "text/html": [
       "<div>\n",
       "<style scoped>\n",
       "    .dataframe tbody tr th:only-of-type {\n",
       "        vertical-align: middle;\n",
       "    }\n",
       "\n",
       "    .dataframe tbody tr th {\n",
       "        vertical-align: top;\n",
       "    }\n",
       "\n",
       "    .dataframe thead th {\n",
       "        text-align: right;\n",
       "    }\n",
       "</style>\n",
       "<table border=\"1\" class=\"dataframe\">\n",
       "  <thead>\n",
       "    <tr style=\"text-align: right;\">\n",
       "      <th></th>\n",
       "      <th>Nfold</th>\n",
       "      <th>Scoring</th>\n",
       "      <th>Best</th>\n",
       "      <th>Accuracy</th>\n",
       "      <th>AUC</th>\n",
       "    </tr>\n",
       "  </thead>\n",
       "  <tbody>\n",
       "    <tr>\n",
       "      <th>0</th>\n",
       "      <td>3</td>\n",
       "      <td>accuracy</td>\n",
       "      <td>{'max_depth': None, 'max_leaf_nodes': 7}</td>\n",
       "      <td>0.877841</td>\n",
       "      <td>0.911474</td>\n",
       "    </tr>\n",
       "    <tr>\n",
       "      <th>1</th>\n",
       "      <td>3</td>\n",
       "      <td>roc_auc</td>\n",
       "      <td>{'max_depth': 2, 'max_leaf_nodes': 8}</td>\n",
       "      <td>0.875000</td>\n",
       "      <td>0.931044</td>\n",
       "    </tr>\n",
       "    <tr>\n",
       "      <th>2</th>\n",
       "      <td>5</td>\n",
       "      <td>accuracy</td>\n",
       "      <td>{'max_depth': 2, 'max_leaf_nodes': 6}</td>\n",
       "      <td>0.875000</td>\n",
       "      <td>0.911765</td>\n",
       "    </tr>\n",
       "    <tr>\n",
       "      <th>3</th>\n",
       "      <td>5</td>\n",
       "      <td>roc_auc</td>\n",
       "      <td>{'max_depth': 2, 'max_leaf_nodes': 8}</td>\n",
       "      <td>0.875000</td>\n",
       "      <td>0.931044</td>\n",
       "    </tr>\n",
       "    <tr>\n",
       "      <th>4</th>\n",
       "      <td>10</td>\n",
       "      <td>accuracy</td>\n",
       "      <td>{'max_depth': None, 'max_leaf_nodes': 5}</td>\n",
       "      <td>0.860795</td>\n",
       "      <td>0.907369</td>\n",
       "    </tr>\n",
       "    <tr>\n",
       "      <th>5</th>\n",
       "      <td>10</td>\n",
       "      <td>roc_auc</td>\n",
       "      <td>{'max_depth': 2, 'max_leaf_nodes': 8}</td>\n",
       "      <td>0.875000</td>\n",
       "      <td>0.931044</td>\n",
       "    </tr>\n",
       "  </tbody>\n",
       "</table>\n",
       "</div>"
      ],
      "text/plain": [
       "   Nfold   Scoring                                      Best  Accuracy  \\\n",
       "0      3  accuracy  {'max_depth': None, 'max_leaf_nodes': 7}  0.877841   \n",
       "1      3   roc_auc     {'max_depth': 2, 'max_leaf_nodes': 8}  0.875000   \n",
       "2      5  accuracy     {'max_depth': 2, 'max_leaf_nodes': 6}  0.875000   \n",
       "3      5   roc_auc     {'max_depth': 2, 'max_leaf_nodes': 8}  0.875000   \n",
       "4     10  accuracy  {'max_depth': None, 'max_leaf_nodes': 5}  0.860795   \n",
       "5     10   roc_auc     {'max_depth': 2, 'max_leaf_nodes': 8}  0.875000   \n",
       "\n",
       "        AUC  \n",
       "0  0.911474  \n",
       "1  0.931044  \n",
       "2  0.911765  \n",
       "3  0.931044  \n",
       "4  0.907369  \n",
       "5  0.931044  "
      ]
     },
     "execution_count": 217,
     "metadata": {},
     "output_type": "execute_result"
    }
   ],
   "source": [
    "# All, Test\n",
    "N_fold = []\n",
    "SC_method = []\n",
    "ACC = []\n",
    "AUC = []\n",
    "Best_parm = []\n",
    "Train_X = X\n",
    "Train_y = y\n",
    "Test_X = X_test\n",
    "Test_y = y_test \n",
    "for f in folds:\n",
    "    for sc in scoring_method:\n",
    "        bparam, acc, auc = Implement_GridSearch(Train_X, Train_y, Test_X, Test_y, num_fold = f, scoring = sc, param = {'max_leaf_nodes': list(range(2,20)), 'max_depth':[None] + list(range(1,6))}, randomseed = 1234)\n",
    "        N_fold.append(f)\n",
    "        SC_method.append(sc)\n",
    "        Best_parm.append(bparam)\n",
    "        ACC.append(acc)\n",
    "        AUC.append(auc)\n",
    "\n",
    "Results_All_Test = pd.DataFrame({'Nfold' : N_fold, 'Scoring': SC_method, 'Best': Best_parm, 'Accuracy': ACC, 'AUC' : AUC})\n",
    "Results_All_Test"
   ]
  },
  {
   "cell_type": "code",
   "execution_count": 218,
   "metadata": {},
   "outputs": [
    {
     "data": {
      "text/html": [
       "<div>\n",
       "<style scoped>\n",
       "    .dataframe tbody tr th:only-of-type {\n",
       "        vertical-align: middle;\n",
       "    }\n",
       "\n",
       "    .dataframe tbody tr th {\n",
       "        vertical-align: top;\n",
       "    }\n",
       "\n",
       "    .dataframe thead th {\n",
       "        text-align: right;\n",
       "    }\n",
       "</style>\n",
       "<table border=\"1\" class=\"dataframe\">\n",
       "  <thead>\n",
       "    <tr style=\"text-align: right;\">\n",
       "      <th></th>\n",
       "      <th>Nfold</th>\n",
       "      <th>Scoring</th>\n",
       "      <th>Best</th>\n",
       "      <th>Accuracy</th>\n",
       "      <th>AUC</th>\n",
       "    </tr>\n",
       "  </thead>\n",
       "  <tbody>\n",
       "    <tr>\n",
       "      <th>0</th>\n",
       "      <td>3</td>\n",
       "      <td>accuracy</td>\n",
       "      <td>{'max_depth': None, 'max_leaf_nodes': 7}</td>\n",
       "      <td>0.895677</td>\n",
       "      <td>0.934186</td>\n",
       "    </tr>\n",
       "    <tr>\n",
       "      <th>1</th>\n",
       "      <td>3</td>\n",
       "      <td>roc_auc</td>\n",
       "      <td>{'max_depth': 2, 'max_leaf_nodes': 8}</td>\n",
       "      <td>0.890038</td>\n",
       "      <td>0.948372</td>\n",
       "    </tr>\n",
       "    <tr>\n",
       "      <th>2</th>\n",
       "      <td>5</td>\n",
       "      <td>accuracy</td>\n",
       "      <td>{'max_depth': 2, 'max_leaf_nodes': 6}</td>\n",
       "      <td>0.890038</td>\n",
       "      <td>0.933493</td>\n",
       "    </tr>\n",
       "    <tr>\n",
       "      <th>3</th>\n",
       "      <td>5</td>\n",
       "      <td>roc_auc</td>\n",
       "      <td>{'max_depth': 2, 'max_leaf_nodes': 8}</td>\n",
       "      <td>0.890038</td>\n",
       "      <td>0.948372</td>\n",
       "    </tr>\n",
       "    <tr>\n",
       "      <th>4</th>\n",
       "      <td>10</td>\n",
       "      <td>accuracy</td>\n",
       "      <td>{'max_depth': None, 'max_leaf_nodes': 5}</td>\n",
       "      <td>0.884398</td>\n",
       "      <td>0.931334</td>\n",
       "    </tr>\n",
       "    <tr>\n",
       "      <th>5</th>\n",
       "      <td>10</td>\n",
       "      <td>roc_auc</td>\n",
       "      <td>{'max_depth': 2, 'max_leaf_nodes': 8}</td>\n",
       "      <td>0.890038</td>\n",
       "      <td>0.948372</td>\n",
       "    </tr>\n",
       "  </tbody>\n",
       "</table>\n",
       "</div>"
      ],
      "text/plain": [
       "   Nfold   Scoring                                      Best  Accuracy  \\\n",
       "0      3  accuracy  {'max_depth': None, 'max_leaf_nodes': 7}  0.895677   \n",
       "1      3   roc_auc     {'max_depth': 2, 'max_leaf_nodes': 8}  0.890038   \n",
       "2      5  accuracy     {'max_depth': 2, 'max_leaf_nodes': 6}  0.890038   \n",
       "3      5   roc_auc     {'max_depth': 2, 'max_leaf_nodes': 8}  0.890038   \n",
       "4     10  accuracy  {'max_depth': None, 'max_leaf_nodes': 5}  0.884398   \n",
       "5     10   roc_auc     {'max_depth': 2, 'max_leaf_nodes': 8}  0.890038   \n",
       "\n",
       "        AUC  \n",
       "0  0.934186  \n",
       "1  0.948372  \n",
       "2  0.933493  \n",
       "3  0.948372  \n",
       "4  0.931334  \n",
       "5  0.948372  "
      ]
     },
     "execution_count": 218,
     "metadata": {},
     "output_type": "execute_result"
    }
   ],
   "source": [
    "# All, All\n",
    "N_fold = []\n",
    "SC_method = []\n",
    "ACC = []\n",
    "AUC = []\n",
    "Best_parm = []\n",
    "Train_X = X\n",
    "Train_y = y\n",
    "Test_X = X\n",
    "Test_y = y \n",
    "for f in folds:\n",
    "    for sc in scoring_method:\n",
    "        bparam, acc, auc = Implement_GridSearch(Train_X, Train_y, Test_X, Test_y, num_fold = f, scoring = sc, param = {'max_leaf_nodes': list(range(2,20)), 'max_depth':[None] + list(range(1,6))}, randomseed = 1234)\n",
    "        N_fold.append(f)\n",
    "        SC_method.append(sc)\n",
    "        Best_parm.append(bparam)\n",
    "        ACC.append(acc)\n",
    "        AUC.append(auc)\n",
    "\n",
    "Results_All_All = pd.DataFrame({'Nfold' : N_fold, 'Scoring': SC_method, 'Best': Best_parm, 'Accuracy': ACC, 'AUC' : AUC})\n",
    "Results_All_All"
   ]
  },
  {
   "cell_type": "markdown",
   "metadata": {},
   "source": [
    "Agian max_depth = 2 and max_leaf_node = 8 is the most common. However, once trained on **all the data set**, the performance changes:\n",
    "\n",
    "**On testing**: Accuracy: 87.50%, ROC_AUC: 0.93\n",
    "\n",
    "**On Whole population**: Accuracy: 89%, ROC_AUC: 0.95"
   ]
  },
  {
   "cell_type": "markdown",
   "metadata": {},
   "source": [
    "# Monte Carlo Cross Validation\n",
    "So far, we have seen that max_leaf_node = 8 and max_depth = 2 are the best candidates but are we allowed to use all the data to estimate the model? Well, we are using the test data set to have a good estimate of the performance out of time, we could estimate that using Monte Carlo Cross Validation rather than a single data set. Here how it goes:\n",
    "\n",
    "1) The final model was selected via cross validation with varying folds. \n",
    "\n",
    "2) The \"test error\" is estimated via MCCV"
   ]
  },
  {
   "cell_type": "code",
   "execution_count": 222,
   "metadata": {},
   "outputs": [],
   "source": [
    "# Number of times\n",
    "Niter = 1000\n",
    "AUC = []\n",
    "ACCURACY = []\n",
    "for i in list(range(Niter)):\n",
    "    randomseed = int('12'+ str(i) + '3')\n",
    "    # Split in  Train and Test (Split 2/3 training, 1/3 testing)\n",
    "    X_train, X_test, y_train, y_test = train_test_split(X, y, test_size = 0.33, random_state = randomseed)\n",
    "    # To beign with, let's control the number of maximum leaf nodes to be 10\n",
    "    h_classifier = DecisionTreeClassifier(max_leaf_nodes = 8, max_depth= 2, random_state = randomseed)\n",
    "    h_classifier.fit(X_train, y_train)\n",
    "    prediction = h_classifier.predict(X_test)\n",
    "    p_test = h_classifier.predict_proba(X_test)\n",
    "    p = [p_test[i][1] for i in list(range(len(p_test)))]\n",
    "    AUC.append(roc_auc_score(y_true = y_test, y_score = p))\n",
    "    ACCURACY.append(accuracy_score(y_true = y_test, y_pred = prediction)*100)\n",
    "    "
   ]
  },
  {
   "cell_type": "code",
   "execution_count": 240,
   "metadata": {},
   "outputs": [
    {
     "name": "stdout",
     "output_type": "stream",
     "text": [
      "The average test AUC is 0.93 with standard deviation of 0.01.\n",
      "The average test AUC is 87.05% with standard deviation of 1.77 percent.\n"
     ]
    }
   ],
   "source": [
    "AUC = np.array(AUC)\n",
    "print('The average test AUC is {0:.2f} with standard deviation of {1:.2f}.'.format(AUC.mean() , AUC.std()))\n",
    "ACCURACY = np.array(ACCURACY)\n",
    "print('The average test AUC is {0:.2f}% with standard deviation of {1:.2f} percent.'.format(ACCURACY.mean() , ACCURACY.std()))"
   ]
  },
  {
   "cell_type": "markdown",
   "metadata": {},
   "source": [
    "**Further Research:**\n",
    "\n",
    "A) Change the criterion in the tree from *Gini* to *Enropy* and see how the outcome would change.\n",
    "\n",
    "B) Change the balance of the classes (by changing the threshold 24.37 early on in the code) to see how the performance varies with imbalanced data. It is expected that MCCV may be more crucial in \"rare event\" scenario."
   ]
  },
  {
   "cell_type": "code",
   "execution_count": null,
   "metadata": {},
   "outputs": [],
   "source": []
  }
 ],
 "metadata": {
  "kernelspec": {
   "display_name": "Python 3",
   "language": "python",
   "name": "python3"
  },
  "language_info": {
   "codemirror_mode": {
    "name": "ipython",
    "version": 3
   },
   "file_extension": ".py",
   "mimetype": "text/x-python",
   "name": "python",
   "nbconvert_exporter": "python",
   "pygments_lexer": "ipython3",
   "version": "3.7.1"
  }
 },
 "nbformat": 4,
 "nbformat_minor": 2
}
