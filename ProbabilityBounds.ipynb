{
 "cells": [
  {
   "cell_type": "markdown",
   "metadata": {},
   "source": [
    "In this notebook, I compare the upper bounds on probablity of\n",
    "$$\n",
    "P(|Z| > t)\n",
    "$$\n",
    "where $Z~N(0,1)$, using Markov and Mill's inequalities. \n",
    "* Markov Inequality:\n",
    "$$\n",
    "P(|Z| > t) = P(|Z|^k > t^k)\\leq \\frac{\\mathbb{E}[|Z|^k]}{t^k}\n",
    "$$\n",
    "for any positive integer $k$.\n",
    "$$\n",
    "$$\n",
    "* Mill's inequality:\n",
    "$$\n",
    "P(|Z| > t) \\leq \\sqrt{\\frac{2}{\\pi}}\\frac{e^{-t^2/2}}{t}\n",
    "$$"
   ]
  },
  {
   "cell_type": "code",
   "execution_count": 112,
   "metadata": {},
   "outputs": [],
   "source": [
    "# Importing packages/\n",
    "import numpy as np\n",
    "import pandas as pd\n",
    "import matplotlib.pyplot as plt\n",
    "from scipy.stats import norm\n",
    "%matplotlib inline"
   ]
  },
  {
   "cell_type": "code",
   "execution_count": 113,
   "metadata": {},
   "outputs": [
    {
     "data": {
      "text/plain": [
       "array([1.        , 1.04081633, 1.08163265, 1.12244898, 1.16326531,\n",
       "       1.20408163, 1.24489796, 1.28571429, 1.32653061, 1.36734694,\n",
       "       1.40816327, 1.44897959, 1.48979592, 1.53061224, 1.57142857,\n",
       "       1.6122449 , 1.65306122, 1.69387755, 1.73469388, 1.7755102 ,\n",
       "       1.81632653, 1.85714286, 1.89795918, 1.93877551, 1.97959184,\n",
       "       2.02040816, 2.06122449, 2.10204082, 2.14285714, 2.18367347,\n",
       "       2.2244898 , 2.26530612, 2.30612245, 2.34693878, 2.3877551 ,\n",
       "       2.42857143, 2.46938776, 2.51020408, 2.55102041, 2.59183673,\n",
       "       2.63265306, 2.67346939, 2.71428571, 2.75510204, 2.79591837,\n",
       "       2.83673469, 2.87755102, 2.91836735, 2.95918367, 3.        ])"
      ]
     },
     "execution_count": 113,
     "metadata": {},
     "output_type": "execute_result"
    }
   ],
   "source": [
    "# range of t (About 0.05 apart)\n",
    "t = np.linspace(1,3,50)\n",
    "t"
   ]
  },
  {
   "cell_type": "code",
   "execution_count": 114,
   "metadata": {},
   "outputs": [
    {
     "data": {
      "text/plain": [
       "array([0.31731051, 0.2979608 , 0.27941579, 0.26167159, 0.24472188,\n",
       "       0.22855803, 0.21316926, 0.19854279, 0.184664  , 0.17151659,\n",
       "       0.15908273, 0.14734328, 0.1362779 , 0.12586525, 0.11608313,\n",
       "       0.10690866, 0.0983184 , 0.09028855, 0.08279504, 0.07581368,\n",
       "       0.0693203 , 0.06329083, 0.05770146, 0.05252868, 0.04774941,\n",
       "       0.04334107, 0.03928163, 0.0355497 , 0.03212457, 0.02898625,\n",
       "       0.02611551, 0.0234939 , 0.02110379, 0.01892836, 0.01695163,\n",
       "       0.01515844, 0.01353445, 0.01206614, 0.0107408 , 0.00954651,\n",
       "       0.00847208, 0.00750711, 0.00664189, 0.00586738, 0.00517525,\n",
       "       0.00455775, 0.00400775, 0.0035187 , 0.00308455, 0.0026998 ])"
      ]
     },
     "execution_count": 114,
     "metadata": {},
     "output_type": "execute_result"
    }
   ],
   "source": [
    "# Actual probability:\n",
    "actual_prob = 2 * norm.cdf(-t)\n",
    "actual_prob"
   ]
  },
  {
   "cell_type": "code",
   "execution_count": 115,
   "metadata": {},
   "outputs": [],
   "source": [
    "Description = []\n",
    "Description.append('Actual Probability')"
   ]
  },
  {
   "cell_type": "code",
   "execution_count": 116,
   "metadata": {},
   "outputs": [
    {
     "data": {
      "text/plain": [
       "3"
      ]
     },
     "execution_count": 116,
     "metadata": {},
     "output_type": "execute_result"
    }
   ],
   "source": [
    "# Working on Markov\n",
    "K = [2,4,6]\n",
    "Markov_prob = []\n",
    "\n",
    "for k in K:\n",
    "    temp_prob = norm.moment(k)/t**k\n",
    "    Markov_prob.append(temp_prob)\n",
    "    Description.append('Markov for K = ' + str(k))\n",
    "len(Markov_prob)"
   ]
  },
  {
   "cell_type": "code",
   "execution_count": 117,
   "metadata": {},
   "outputs": [
    {
     "data": {
      "text/plain": [
       "array([1.        , 0.9231065 , 0.85475258, 0.79371901, 0.73899661,\n",
       "       0.68974433, 0.64525665, 0.60493827, 0.56828402, 0.534863  ,\n",
       "       0.50430582, 0.47629439, 0.45055357, 0.42684444, 0.40495868,\n",
       "       0.38471399, 0.36595031, 0.34852664, 0.33231834, 0.31721496,\n",
       "       0.30311829, 0.28994083, 0.27760435, 0.26603878, 0.25518121,\n",
       "       0.244975  , 0.23536908, 0.22631728, 0.21777778, 0.20971264,\n",
       "       0.20208737, 0.19487055, 0.18803352, 0.18155009, 0.1753963 ,\n",
       "       0.16955017, 0.16399153, 0.15870183, 0.153664  , 0.1488623 ,\n",
       "       0.14428219, 0.13991026, 0.13573407, 0.13174211, 0.1279237 ,\n",
       "       0.12426893, 0.12076857, 0.11741405, 0.11419738, 0.11111111])"
      ]
     },
     "execution_count": 117,
     "metadata": {},
     "output_type": "execute_result"
    }
   ],
   "source": [
    "Markov_prob[0]"
   ]
  },
  {
   "cell_type": "code",
   "execution_count": 118,
   "metadata": {},
   "outputs": [
    {
     "data": {
      "text/plain": [
       "['Actual Probability',\n",
       " 'Markov for K = 2',\n",
       " 'Markov for K = 4',\n",
       " 'Markov for K = 6']"
      ]
     },
     "execution_count": 118,
     "metadata": {},
     "output_type": "execute_result"
    }
   ],
   "source": [
    "Description"
   ]
  },
  {
   "cell_type": "code",
   "execution_count": 119,
   "metadata": {},
   "outputs": [],
   "source": [
    "Mills_prob = np.sqrt(2/np.pi)*np.exp(-t**2/2)/t\n",
    "Description.append('Mill\\'s')"
   ]
  },
  {
   "cell_type": "code",
   "execution_count": 120,
   "metadata": {},
   "outputs": [
    {
     "data": {
      "text/plain": [
       "['Actual Probability',\n",
       " 'Markov for K = 2',\n",
       " 'Markov for K = 4',\n",
       " 'Markov for K = 6',\n",
       " \"Mill's\"]"
      ]
     },
     "execution_count": 120,
     "metadata": {},
     "output_type": "execute_result"
    }
   ],
   "source": [
    "Description"
   ]
  },
  {
   "cell_type": "code",
   "execution_count": 121,
   "metadata": {},
   "outputs": [
    {
     "data": {
      "text/plain": [
       "numpy.ndarray"
      ]
     },
     "execution_count": 121,
     "metadata": {},
     "output_type": "execute_result"
    }
   ],
   "source": [
    "type(actual_prob)"
   ]
  },
  {
   "cell_type": "code",
   "execution_count": 122,
   "metadata": {},
   "outputs": [
    {
     "data": {
      "text/plain": [
       "list"
      ]
     },
     "execution_count": 122,
     "metadata": {},
     "output_type": "execute_result"
    }
   ],
   "source": [
    "type(Markov_prob)"
   ]
  },
  {
   "cell_type": "code",
   "execution_count": 123,
   "metadata": {},
   "outputs": [
    {
     "data": {
      "text/plain": [
       "numpy.ndarray"
      ]
     },
     "execution_count": 123,
     "metadata": {},
     "output_type": "execute_result"
    }
   ],
   "source": [
    "type(Mills_prob)"
   ]
  },
  {
   "cell_type": "code",
   "execution_count": 124,
   "metadata": {},
   "outputs": [],
   "source": [
    "A = [actual_prob]"
   ]
  },
  {
   "cell_type": "code",
   "execution_count": 125,
   "metadata": {},
   "outputs": [
    {
     "data": {
      "text/plain": [
       "[array([0.31731051, 0.2979608 , 0.27941579, 0.26167159, 0.24472188,\n",
       "        0.22855803, 0.21316926, 0.19854279, 0.184664  , 0.17151659,\n",
       "        0.15908273, 0.14734328, 0.1362779 , 0.12586525, 0.11608313,\n",
       "        0.10690866, 0.0983184 , 0.09028855, 0.08279504, 0.07581368,\n",
       "        0.0693203 , 0.06329083, 0.05770146, 0.05252868, 0.04774941,\n",
       "        0.04334107, 0.03928163, 0.0355497 , 0.03212457, 0.02898625,\n",
       "        0.02611551, 0.0234939 , 0.02110379, 0.01892836, 0.01695163,\n",
       "        0.01515844, 0.01353445, 0.01206614, 0.0107408 , 0.00954651,\n",
       "        0.00847208, 0.00750711, 0.00664189, 0.00586738, 0.00517525,\n",
       "        0.00455775, 0.00400775, 0.0035187 , 0.00308455, 0.0026998 ])]"
      ]
     },
     "execution_count": 125,
     "metadata": {},
     "output_type": "execute_result"
    }
   ],
   "source": [
    "A"
   ]
  },
  {
   "cell_type": "code",
   "execution_count": 126,
   "metadata": {},
   "outputs": [],
   "source": [
    "for i in Markov_prob:\n",
    "    A.append(i)"
   ]
  },
  {
   "cell_type": "code",
   "execution_count": 127,
   "metadata": {},
   "outputs": [
    {
     "data": {
      "text/plain": [
       "[array([0.31731051, 0.2979608 , 0.27941579, 0.26167159, 0.24472188,\n",
       "        0.22855803, 0.21316926, 0.19854279, 0.184664  , 0.17151659,\n",
       "        0.15908273, 0.14734328, 0.1362779 , 0.12586525, 0.11608313,\n",
       "        0.10690866, 0.0983184 , 0.09028855, 0.08279504, 0.07581368,\n",
       "        0.0693203 , 0.06329083, 0.05770146, 0.05252868, 0.04774941,\n",
       "        0.04334107, 0.03928163, 0.0355497 , 0.03212457, 0.02898625,\n",
       "        0.02611551, 0.0234939 , 0.02110379, 0.01892836, 0.01695163,\n",
       "        0.01515844, 0.01353445, 0.01206614, 0.0107408 , 0.00954651,\n",
       "        0.00847208, 0.00750711, 0.00664189, 0.00586738, 0.00517525,\n",
       "        0.00455775, 0.00400775, 0.0035187 , 0.00308455, 0.0026998 ]),\n",
       " array([1.        , 0.9231065 , 0.85475258, 0.79371901, 0.73899661,\n",
       "        0.68974433, 0.64525665, 0.60493827, 0.56828402, 0.534863  ,\n",
       "        0.50430582, 0.47629439, 0.45055357, 0.42684444, 0.40495868,\n",
       "        0.38471399, 0.36595031, 0.34852664, 0.33231834, 0.31721496,\n",
       "        0.30311829, 0.28994083, 0.27760435, 0.26603878, 0.25518121,\n",
       "        0.244975  , 0.23536908, 0.22631728, 0.21777778, 0.20971264,\n",
       "        0.20208737, 0.19487055, 0.18803352, 0.18155009, 0.1753963 ,\n",
       "        0.16955017, 0.16399153, 0.15870183, 0.153664  , 0.1488623 ,\n",
       "        0.14428219, 0.13991026, 0.13573407, 0.13174211, 0.1279237 ,\n",
       "        0.12426893, 0.12076857, 0.11741405, 0.11419738, 0.11111111]),\n",
       " array([3.        , 2.55637682, 2.19180592, 1.88996959, 1.63834799,\n",
       "        1.42724171, 1.24906844, 1.09785094, 0.96884019, 0.85823528,\n",
       "        0.76297307, 0.68056903, 0.60899557, 0.54658854, 0.49197459,\n",
       "        0.44401456, 0.40175889, 0.36441245, 0.33130644, 0.30187598,\n",
       "        0.2756421 , 0.25219705, 0.23119252, 0.2123299 , 0.19535235,\n",
       "        0.18003826, 0.16619581, 0.15365853, 0.14228148, 0.13193817,\n",
       "        0.12251791, 0.11392359, 0.10606981, 0.09888131, 0.09229159,\n",
       "        0.08624178, 0.08067967, 0.07555881, 0.07083787, 0.06647995,\n",
       "        0.06245206, 0.05872464, 0.05527121, 0.05206795, 0.04909342,\n",
       "        0.0463283 , 0.04375514, 0.04135818, 0.03912313, 0.03703704]),\n",
       " array([15.        , 11.79904025,  9.36725885,  7.50052395,  6.05366808,\n",
       "         4.92215935,  4.02984859,  3.32066024,  2.75288202,  2.29519148,\n",
       "         1.9238588 ,  1.62075603,  1.37192566,  1.16654141,  0.9961469 ,\n",
       "         0.85409306,  0.73511896,  0.63503723,  0.55049602,  0.47879789,\n",
       "         0.41776081,  0.36561111,  0.32090024,  0.28243994,  0.24925124,\n",
       "         0.22052436,  0.19558678,  0.1738779 ,  0.15492872,  0.13834551,\n",
       "         0.12379661,  0.11100176,  0.0997234 ,  0.08975956,  0.08093802,\n",
       "         0.07311155,  0.06615391,  0.05995661,  0.05442616,  0.04948179,\n",
       "         0.0450536 ,  0.0410809 ,  0.03751094,  0.03429771,  0.03140106,\n",
       "         0.02878584,  0.02642123,  0.02428016,  0.02233879,  0.02057613])]"
      ]
     },
     "execution_count": 127,
     "metadata": {},
     "output_type": "execute_result"
    }
   ],
   "source": [
    "A"
   ]
  },
  {
   "cell_type": "code",
   "execution_count": 128,
   "metadata": {},
   "outputs": [],
   "source": [
    "A.append(Mills_prob)"
   ]
  },
  {
   "cell_type": "code",
   "execution_count": 129,
   "metadata": {},
   "outputs": [
    {
     "data": {
      "text/plain": [
       "[array([0.31731051, 0.2979608 , 0.27941579, 0.26167159, 0.24472188,\n",
       "        0.22855803, 0.21316926, 0.19854279, 0.184664  , 0.17151659,\n",
       "        0.15908273, 0.14734328, 0.1362779 , 0.12586525, 0.11608313,\n",
       "        0.10690866, 0.0983184 , 0.09028855, 0.08279504, 0.07581368,\n",
       "        0.0693203 , 0.06329083, 0.05770146, 0.05252868, 0.04774941,\n",
       "        0.04334107, 0.03928163, 0.0355497 , 0.03212457, 0.02898625,\n",
       "        0.02611551, 0.0234939 , 0.02110379, 0.01892836, 0.01695163,\n",
       "        0.01515844, 0.01353445, 0.01206614, 0.0107408 , 0.00954651,\n",
       "        0.00847208, 0.00750711, 0.00664189, 0.00586738, 0.00517525,\n",
       "        0.00455775, 0.00400775, 0.0035187 , 0.00308455, 0.0026998 ]),\n",
       " array([1.        , 0.9231065 , 0.85475258, 0.79371901, 0.73899661,\n",
       "        0.68974433, 0.64525665, 0.60493827, 0.56828402, 0.534863  ,\n",
       "        0.50430582, 0.47629439, 0.45055357, 0.42684444, 0.40495868,\n",
       "        0.38471399, 0.36595031, 0.34852664, 0.33231834, 0.31721496,\n",
       "        0.30311829, 0.28994083, 0.27760435, 0.26603878, 0.25518121,\n",
       "        0.244975  , 0.23536908, 0.22631728, 0.21777778, 0.20971264,\n",
       "        0.20208737, 0.19487055, 0.18803352, 0.18155009, 0.1753963 ,\n",
       "        0.16955017, 0.16399153, 0.15870183, 0.153664  , 0.1488623 ,\n",
       "        0.14428219, 0.13991026, 0.13573407, 0.13174211, 0.1279237 ,\n",
       "        0.12426893, 0.12076857, 0.11741405, 0.11419738, 0.11111111]),\n",
       " array([3.        , 2.55637682, 2.19180592, 1.88996959, 1.63834799,\n",
       "        1.42724171, 1.24906844, 1.09785094, 0.96884019, 0.85823528,\n",
       "        0.76297307, 0.68056903, 0.60899557, 0.54658854, 0.49197459,\n",
       "        0.44401456, 0.40175889, 0.36441245, 0.33130644, 0.30187598,\n",
       "        0.2756421 , 0.25219705, 0.23119252, 0.2123299 , 0.19535235,\n",
       "        0.18003826, 0.16619581, 0.15365853, 0.14228148, 0.13193817,\n",
       "        0.12251791, 0.11392359, 0.10606981, 0.09888131, 0.09229159,\n",
       "        0.08624178, 0.08067967, 0.07555881, 0.07083787, 0.06647995,\n",
       "        0.06245206, 0.05872464, 0.05527121, 0.05206795, 0.04909342,\n",
       "        0.0463283 , 0.04375514, 0.04135818, 0.03912313, 0.03703704]),\n",
       " array([15.        , 11.79904025,  9.36725885,  7.50052395,  6.05366808,\n",
       "         4.92215935,  4.02984859,  3.32066024,  2.75288202,  2.29519148,\n",
       "         1.9238588 ,  1.62075603,  1.37192566,  1.16654141,  0.9961469 ,\n",
       "         0.85409306,  0.73511896,  0.63503723,  0.55049602,  0.47879789,\n",
       "         0.41776081,  0.36561111,  0.32090024,  0.28243994,  0.24925124,\n",
       "         0.22052436,  0.19558678,  0.1738779 ,  0.15492872,  0.13834551,\n",
       "         0.12379661,  0.11100176,  0.0997234 ,  0.08975956,  0.08093802,\n",
       "         0.07311155,  0.06615391,  0.05995661,  0.05442616,  0.04948179,\n",
       "         0.0450536 ,  0.0410809 ,  0.03751094,  0.03429771,  0.03140106,\n",
       "         0.02878584,  0.02642123,  0.02428016,  0.02233879,  0.02057613]),\n",
       " array([0.48394145, 0.44599569, 0.41097308, 0.37860944, 0.34867487,\n",
       "        0.3209677 , 0.29530978, 0.27154256, 0.24952403, 0.22912616,\n",
       "        0.21023287, 0.19273832, 0.17654554, 0.16156527, 0.14771503,\n",
       "        0.13491832, 0.12310398, 0.11220562, 0.10216116, 0.09291247,\n",
       "        0.08440502, 0.07658758, 0.06941203, 0.06283311, 0.05680824,\n",
       "        0.05129739, 0.04626291, 0.04166942, 0.03748368, 0.03367449,\n",
       "        0.0302126 , 0.0270706 , 0.02422284, 0.02164536, 0.01931579,\n",
       "        0.01721328, 0.01531842, 0.01361317, 0.01208081, 0.01070583,\n",
       "        0.0094739 , 0.00837179, 0.00738729, 0.0065092 , 0.00572718,\n",
       "        0.0050318 , 0.00441441, 0.0038671 , 0.00338267, 0.00295457])]"
      ]
     },
     "execution_count": 129,
     "metadata": {},
     "output_type": "execute_result"
    }
   ],
   "source": [
    "A"
   ]
  },
  {
   "cell_type": "code",
   "execution_count": 130,
   "metadata": {},
   "outputs": [
    {
     "data": {
      "text/plain": [
       "['Actual Probability',\n",
       " 'Markov for K = 2',\n",
       " 'Markov for K = 4',\n",
       " 'Markov for K = 6',\n",
       " \"Mill's\"]"
      ]
     },
     "execution_count": 130,
     "metadata": {},
     "output_type": "execute_result"
    }
   ],
   "source": [
    "Description"
   ]
  },
  {
   "cell_type": "code",
   "execution_count": 131,
   "metadata": {},
   "outputs": [],
   "source": [
    "Results = pd.DataFrame({\"Method\" : Description, \"Prob\" : A})"
   ]
  },
  {
   "cell_type": "code",
   "execution_count": 132,
   "metadata": {},
   "outputs": [
    {
     "data": {
      "text/html": [
       "<div>\n",
       "<style scoped>\n",
       "    .dataframe tbody tr th:only-of-type {\n",
       "        vertical-align: middle;\n",
       "    }\n",
       "\n",
       "    .dataframe tbody tr th {\n",
       "        vertical-align: top;\n",
       "    }\n",
       "\n",
       "    .dataframe thead th {\n",
       "        text-align: right;\n",
       "    }\n",
       "</style>\n",
       "<table border=\"1\" class=\"dataframe\">\n",
       "  <thead>\n",
       "    <tr style=\"text-align: right;\">\n",
       "      <th></th>\n",
       "      <th>Method</th>\n",
       "      <th>Prob</th>\n",
       "    </tr>\n",
       "  </thead>\n",
       "  <tbody>\n",
       "    <tr>\n",
       "      <th>0</th>\n",
       "      <td>Actual Probability</td>\n",
       "      <td>[0.31731050786291415, 0.29796080123477753, 0.2...</td>\n",
       "    </tr>\n",
       "    <tr>\n",
       "      <th>1</th>\n",
       "      <td>Markov for K = 2</td>\n",
       "      <td>[1.0, 0.9231064975009611, 0.8547525809896759, ...</td>\n",
       "    </tr>\n",
       "    <tr>\n",
       "      <th>2</th>\n",
       "      <td>Markov for K = 4</td>\n",
       "      <td>[3.0, 2.5563768171854755, 2.1918059241255374, ...</td>\n",
       "    </tr>\n",
       "    <tr>\n",
       "      <th>3</th>\n",
       "      <td>Markov for K = 6</td>\n",
       "      <td>[15.00000000089533, 11.799040250727964, 9.3672...</td>\n",
       "    </tr>\n",
       "    <tr>\n",
       "      <th>4</th>\n",
       "      <td>Mill's</td>\n",
       "      <td>[0.48394144903828673, 0.4459956858259848, 0.41...</td>\n",
       "    </tr>\n",
       "  </tbody>\n",
       "</table>\n",
       "</div>"
      ],
      "text/plain": [
       "               Method                                               Prob\n",
       "0  Actual Probability  [0.31731050786291415, 0.29796080123477753, 0.2...\n",
       "1    Markov for K = 2  [1.0, 0.9231064975009611, 0.8547525809896759, ...\n",
       "2    Markov for K = 4  [3.0, 2.5563768171854755, 2.1918059241255374, ...\n",
       "3    Markov for K = 6  [15.00000000089533, 11.799040250727964, 9.3672...\n",
       "4              Mill's  [0.48394144903828673, 0.4459956858259848, 0.41..."
      ]
     },
     "execution_count": 132,
     "metadata": {},
     "output_type": "execute_result"
    }
   ],
   "source": [
    "Results"
   ]
  },
  {
   "cell_type": "code",
   "execution_count": 133,
   "metadata": {},
   "outputs": [
    {
     "data": {
      "image/png": "[encoded data removed]",
      "text/plain": [
       "<Figure size 864x864 with 1 Axes>"
      ]
     },
     "metadata": {
      "needs_background": "light"
     },
     "output_type": "display_data"
    }
   ],
   "source": [
    "plt.figure(figsize = (12,12))\n",
    "plt.grid()\n",
    "plt.xlabel(\"t\")\n",
    "plt.ylabel(\"Probabilty\")\n",
    "plt.ylim([0,1])\n",
    "plt.xlim([1,3])\n",
    "Labels = []\n",
    "for i in range(5):\n",
    "    plt.plot(t,Results.loc[i,'Prob'])\n",
    "    Labels.append(Results.loc[i,'Method'])\n",
    "plt.legend(Labels, ncol = 5, loc = 'upper right')\n",
    "plt.savefig('UpperBounds.png', dpi = 300)\n",
    "plt.show()"
   ]
  },
  {
   "cell_type": "code",
   "execution_count": null,
   "metadata": {},
   "outputs": [],
   "source": []
  }
 ],
 "metadata": {
  "kernelspec": {
   "display_name": "Python 3",
   "language": "python",
   "name": "python3"
  },
  "language_info": {
   "codemirror_mode": {
    "name": "ipython",
    "version": 3
   },
   "file_extension": ".py",
   "mimetype": "text/x-python",
   "name": "python",
   "nbconvert_exporter": "python",
   "pygments_lexer": "ipython3",
   "version": "3.7.1"
  }
 },
 "nbformat": 4,
 "nbformat_minor": 2
}
