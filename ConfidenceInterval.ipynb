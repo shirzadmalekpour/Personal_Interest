{
 "cells": [
  {
   "cell_type": "markdown",
   "metadata": {},
   "source": [
    "In this code I will verify the $1-\\alpha$ confidence interval obtained from Hoeffding's inequality. For a given $\\alpha$, if $X_1, X_2, \\cdots, X_n$ are independent samples of Bernouuli(p), then\n",
    "$$\n",
    "p \\in C_n = [\\bar{X_n} - \\epsilon_n, \\bar{X_n} + \\epsilon]\n",
    "$$\n",
    "at least $1-\\alpha$ of the times. In this formula:\n",
    "$$\n",
    "\\bar{X_n} = \\frac{1}{n}\\sum_{i=1}^{n}X_i\n",
    "$$\n",
    "and $\\epsilon_n = \\sqrt{\\frac{1}{2n}\\log{\\frac{2}{\\alpha}}}$."
   ]
  },
  {
   "cell_type": "code",
   "execution_count": 1,
   "metadata": {},
   "outputs": [],
   "source": [
    "import numpy as np\n",
    "import pandas as pd"
   ]
  },
  {
   "cell_type": "code",
   "execution_count": 24,
   "metadata": {},
   "outputs": [],
   "source": [
    "# Number of iterations\n",
    "Niter = 10000\n",
    "# Number of samples\n",
    "n = np.array([10**i for i in list(range(5))])\n",
    "# Confidence interval\n",
    "alpha = 0.3\n",
    "p= 0.45"
   ]
  },
  {
   "cell_type": "code",
   "execution_count": 25,
   "metadata": {},
   "outputs": [],
   "source": [
    "epsilon = np.sqrt(np.log(2/alpha)/(2*n))"
   ]
  },
  {
   "cell_type": "code",
   "execution_count": 26,
   "metadata": {},
   "outputs": [],
   "source": [
    "Portion = []\n",
    "for i, eps in zip(n,epsilon):\n",
    "    X = np.random.binomial(1,p, size = (Niter,i))\n",
    "    M = X.mean(axis = 1)\n",
    "    counter = np.sum(np.logical_and(p > M - eps, p < M + eps))\n",
    "    Portion.append(counter/Niter)"
   ]
  },
  {
   "cell_type": "code",
   "execution_count": 27,
   "metadata": {},
   "outputs": [],
   "source": [
    "P = pd.DataFrame(data = Portion , columns = ['Inside_P'])"
   ]
  },
  {
   "cell_type": "code",
   "execution_count": 28,
   "metadata": {},
   "outputs": [
    {
     "data": {
      "text/html": [
       "<div>\n",
       "<style scoped>\n",
       "    .dataframe tbody tr th:only-of-type {\n",
       "        vertical-align: middle;\n",
       "    }\n",
       "\n",
       "    .dataframe tbody tr th {\n",
       "        vertical-align: top;\n",
       "    }\n",
       "\n",
       "    .dataframe thead th {\n",
       "        text-align: right;\n",
       "    }\n",
       "</style>\n",
       "<table border=\"1\" class=\"dataframe\">\n",
       "  <thead>\n",
       "    <tr style=\"text-align: right;\">\n",
       "      <th></th>\n",
       "      <th>count</th>\n",
       "      <th>mean</th>\n",
       "      <th>std</th>\n",
       "      <th>min</th>\n",
       "      <th>25%</th>\n",
       "      <th>50%</th>\n",
       "      <th>75%</th>\n",
       "      <th>max</th>\n",
       "    </tr>\n",
       "  </thead>\n",
       "  <tbody>\n",
       "    <tr>\n",
       "      <th>Inside_P</th>\n",
       "      <td>5.0</td>\n",
       "      <td>0.95716</td>\n",
       "      <td>0.024201</td>\n",
       "      <td>0.9417</td>\n",
       "      <td>0.9447</td>\n",
       "      <td>0.9487</td>\n",
       "      <td>0.9507</td>\n",
       "      <td>1.0</td>\n",
       "    </tr>\n",
       "  </tbody>\n",
       "</table>\n",
       "</div>"
      ],
      "text/plain": [
       "          count     mean       std     min     25%     50%     75%  max\n",
       "Inside_P    5.0  0.95716  0.024201  0.9417  0.9447  0.9487  0.9507  1.0"
      ]
     },
     "execution_count": 28,
     "metadata": {},
     "output_type": "execute_result"
    }
   ],
   "source": [
    "P.describe().transpose()"
   ]
  },
  {
   "cell_type": "code",
   "execution_count": null,
   "metadata": {},
   "outputs": [],
   "source": []
  }
 ],
 "metadata": {
  "kernelspec": {
   "display_name": "Python 3",
   "language": "python",
   "name": "python3"
  },
  "language_info": {
   "codemirror_mode": {
    "name": "ipython",
    "version": 3
   },
   "file_extension": ".py",
   "mimetype": "text/x-python",
   "name": "python",
   "nbconvert_exporter": "python",
   "pygments_lexer": "ipython3",
   "version": "3.7.1"
  }
 },
 "nbformat": 4,
 "nbformat_minor": 2
}
